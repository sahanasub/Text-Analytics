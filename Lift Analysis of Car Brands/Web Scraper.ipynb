{
 "cells": [
  {
   "cell_type": "markdown",
   "metadata": {},
   "source": [
    "### Scraper"
   ]
  },
  {
   "cell_type": "markdown",
   "metadata": {},
   "source": [
    "URL: 'https://forums.edmunds.com/discussion/7526/general/x/midsize-sedans-2-0'. \n",
    "\n",
    "The data was fetched from 539 pages which included posts from 2007 to 2019. We chose to pick 10000 posts from 2007 onwards.\n",
    "\n",
    "The scraper code was implemented on Google Colab."
   ]
  },
  {
   "cell_type": "code",
   "execution_count": null,
   "metadata": {},
   "outputs": [],
   "source": [
    "#!kill -9 -1 # Use this line to delete this VM and start a new one. \n",
    "# The above line deletes all files and folders from the current VM and allocates a new one.\n",
    "\n",
    "!pip install selenium\n",
    "!apt-get -q update # to update ubuntu to correctly run apt install\n",
    "!apt install -yq chromium-chromedriver\n",
    "!cp /usr/lib/chromium-browser/chromedriver /usr/bin"
   ]
  },
  {
   "cell_type": "code",
   "execution_count": null,
   "metadata": {},
   "outputs": [],
   "source": [
    "import sys\n",
    "sys.path.insert(0,'/usr/lib/chromium-browser/chromedriver')\n",
    "from selenium import webdriver\n",
    "chrome_options = webdriver.ChromeOptions()\n",
    "chrome_options.add_argument('--headless')\n",
    "chrome_options.add_argument('--no-sandbox')\n",
    "chrome_options.add_argument('--disable-dev-shm-usage')"
   ]
  },
  {
   "cell_type": "code",
   "execution_count": null,
   "metadata": {},
   "outputs": [],
   "source": [
    "import pandas as pd\n",
    "\n",
    "driver = webdriver.Chrome('chromedriver', options=chrome_options)\n",
    "df_edmund = pd.DataFrame(columns = ['Date','user_id','comments']) "
   ]
  },
  {
   "cell_type": "code",
   "execution_count": null,
   "metadata": {},
   "outputs": [],
   "source": [
    "for j in range(1,539):\n",
    "  url_1='https://forums.edmunds.com/discussion/7526/general/x/midsize-sedans-2-0/p'+str(j)\n",
    "  driver.get(url_1)\n",
    "  #Each page has 50 comments . Total number of pages: 539\n",
    "  for i in range(1,50):\n",
    "    # Extract user ID\n",
    "    xpath_user='/html/body/div[1]/main/div/div[3]/div[5]/div[1]/ul/li['+ str(i) +']/div/div[2]/div[1]/span[1]/a[2]'\n",
    "    userid_element = driver.find_elements_by_xpath(xpath_user)[0]\n",
    "    userid = userid_element.text\n",
    "    # Extract Date\n",
    "    xpath_date='/html/body/div[1]/main/div/div[3]/div[5]/div[1]/ul/li[' + str(i) + ']/div/div[2]/div[2]/span/a/time'\n",
    "    date_element = driver.find_elements_by_xpath(xpath_date)[0]\n",
    "    date_ele = date_element.text\n",
    "    # Extract comment\n",
    "    xpath_comment='/html/body/div[1]/main/div/div[3]/div[5]/div[1]/ul/li['+ str(i)+']/div/div[3]/div/div[1]'\n",
    "    comment_element = driver.find_elements_by_xpath(xpath_comment)[0]\n",
    "    comment = comment_element.text\n",
    "    \n",
    "    # Append to the dataframe\n",
    "    df_edmund.loc[len(df_edmund)] = [date_ele,userid,comment]\n",
    "\n",
    "print(df_edmund)"
   ]
  },
  {
   "cell_type": "code",
   "execution_count": null,
   "metadata": {},
   "outputs": [],
   "source": [
    "# Export to .txt file\n",
    "df_edmund.to_csv(\"scraped_edmund.txt\", sep=\"^\")"
   ]
  }
 ],
 "metadata": {
  "kernelspec": {
   "display_name": "Python 3",
   "language": "python",
   "name": "python3"
  },
  "language_info": {
   "codemirror_mode": {
    "name": "ipython",
    "version": 3
   },
   "file_extension": ".py",
   "mimetype": "text/x-python",
   "name": "python",
   "nbconvert_exporter": "python",
   "pygments_lexer": "ipython3",
   "version": "3.7.3"
  }
 },
 "nbformat": 4,
 "nbformat_minor": 2
}
