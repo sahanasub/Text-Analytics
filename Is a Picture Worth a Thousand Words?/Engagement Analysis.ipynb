{
 "cells": [
  {
   "cell_type": "markdown",
   "metadata": {},
   "source": [
    "###  Engagement Analysis"
   ]
  },
  {
   "cell_type": "code",
   "execution_count": 1,
   "metadata": {},
   "outputs": [
    {
     "name": "stderr",
     "output_type": "stream",
     "text": [
      "[nltk_data] Downloading package stopwords to\n",
      "[nltk_data]     C:\\Users\\Sahana\\AppData\\Roaming\\nltk_data...\n",
      "[nltk_data]   Package stopwords is already up-to-date!\n"
     ]
    }
   ],
   "source": [
    "import nltk; nltk.download('stopwords')\n",
    "import re\n",
    "import numpy as np\n",
    "import pandas as pd\n",
    "from pprint import pprint\n",
    "import spacy\n",
    "from ast import literal_eval\n",
    "\n",
    "from nltk.tokenize import word_tokenize\n",
    "\n",
    "# Gensim\n",
    "import gensim\n",
    "import gensim.corpora as corpora\n",
    "from gensim.utils import simple_preprocess\n",
    "from gensim.models import CoherenceModel\n",
    "\n",
    "# spacy for lemmatization\n",
    "import spacy\n",
    "\n",
    "# Plotting tools\n",
    "import pyLDAvis\n",
    "import pyLDAvis.gensim  # don't skip this\n",
    "import matplotlib.pyplot as plt\n",
    "%matplotlib inline\n",
    "\n",
    "# Enable logging for gensim - optional\n",
    "import logging\n",
    "logging.basicConfig(format='%(asctime)s : %(levelname)s : %(message)s', level=logging.ERROR)\n",
    "\n",
    "import warnings\n",
    "warnings.filterwarnings(\"ignore\",category=DeprecationWarning)"
   ]
  },
  {
   "cell_type": "markdown",
   "metadata": {},
   "source": [
    "#### Read in the scraped file with labels"
   ]
  },
  {
   "cell_type": "code",
   "execution_count": 2,
   "metadata": {},
   "outputs": [],
   "source": [
    "df = pd.read_csv(\"natgeo_labels_final.csv\")\n",
    "\n",
    "df.drop(df.columns[0], axis=1, inplace = True)\n",
    "df['labels'] = df['labels'].apply(lambda x: literal_eval(x))"
   ]
  },
  {
   "cell_type": "code",
   "execution_count": 3,
   "metadata": {},
   "outputs": [],
   "source": [
    "## Remove punctuation and convert the labels to lower case\n",
    "df[\"labels\"] = df[\"labels\"].astype(str)\n",
    "df[\"labels\"] = df[\"labels\"].apply(lambda each_post: word_tokenize(re.sub(r'[^\\w\\s]',' ',each_post.lower())))\n",
    "df[\"labels_strings\"] = df['labels'].apply(' '.join)"
   ]
  },
  {
   "cell_type": "code",
   "execution_count": 4,
   "metadata": {},
   "outputs": [
    {
     "data": {
      "text/html": [
       "<div>\n",
       "<style scoped>\n",
       "    .dataframe tbody tr th:only-of-type {\n",
       "        vertical-align: middle;\n",
       "    }\n",
       "\n",
       "    .dataframe tbody tr th {\n",
       "        vertical-align: top;\n",
       "    }\n",
       "\n",
       "    .dataframe thead th {\n",
       "        text-align: right;\n",
       "    }\n",
       "</style>\n",
       "<table border=\"1\" class=\"dataframe\">\n",
       "  <thead>\n",
       "    <tr style=\"text-align: right;\">\n",
       "      <th></th>\n",
       "      <th>Index</th>\n",
       "      <th>display_url</th>\n",
       "      <th>comments</th>\n",
       "      <th>is_video</th>\n",
       "      <th>likes</th>\n",
       "      <th>caption</th>\n",
       "      <th>labels</th>\n",
       "      <th>labels_strings</th>\n",
       "    </tr>\n",
       "  </thead>\n",
       "  <tbody>\n",
       "    <tr>\n",
       "      <th>0</th>\n",
       "      <td>0</td>\n",
       "      <td>https://instagram.fftw1-1.fna.fbcdn.net/v/t51....</td>\n",
       "      <td>145</td>\n",
       "      <td>False</td>\n",
       "      <td>31505</td>\n",
       "      <td>Photo by Amber Bracken @photobracken | Jocelyn...</td>\n",
       "      <td>[hair, beauty, hairstyle, skin, long, hair, li...</td>\n",
       "      <td>hair beauty hairstyle skin long hair lip hand ...</td>\n",
       "    </tr>\n",
       "    <tr>\n",
       "      <th>1</th>\n",
       "      <td>2</td>\n",
       "      <td>https://instagram.fftw1-1.fna.fbcdn.net/v/t51....</td>\n",
       "      <td>1018</td>\n",
       "      <td>False</td>\n",
       "      <td>330690</td>\n",
       "      <td>Photo by Charlie Hamilton James @chamiltonjame...</td>\n",
       "      <td>[sky, wildlife, natural, environment, ecoregio...</td>\n",
       "      <td>sky wildlife natural environment ecoregion mar...</td>\n",
       "    </tr>\n",
       "    <tr>\n",
       "      <th>2</th>\n",
       "      <td>3</td>\n",
       "      <td>https://instagram.fftw1-1.fna.fbcdn.net/v/t51....</td>\n",
       "      <td>660</td>\n",
       "      <td>False</td>\n",
       "      <td>217013</td>\n",
       "      <td>Photo by @brianskerry | A great white shark sw...</td>\n",
       "      <td>[great, white, shark, shark, lamniformes, tige...</td>\n",
       "      <td>great white shark shark lamniformes tiger shar...</td>\n",
       "    </tr>\n",
       "    <tr>\n",
       "      <th>3</th>\n",
       "      <td>4</td>\n",
       "      <td>https://instagram.fftw1-1.fna.fbcdn.net/v/t51....</td>\n",
       "      <td>1458</td>\n",
       "      <td>False</td>\n",
       "      <td>281516</td>\n",
       "      <td>Photo by @gabrielegalimbertiphoto and Juri De ...</td>\n",
       "      <td>[room, living, room, furniture, interior, desi...</td>\n",
       "      <td>room living room furniture interior design tab...</td>\n",
       "    </tr>\n",
       "    <tr>\n",
       "      <th>4</th>\n",
       "      <td>5</td>\n",
       "      <td>https://instagram.fftw1-1.fna.fbcdn.net/v/t51....</td>\n",
       "      <td>540</td>\n",
       "      <td>False</td>\n",
       "      <td>161964</td>\n",
       "      <td>Photo by @amivitale | Jenabu, 13, waits for he...</td>\n",
       "      <td>[face, black, people, skin, child, head, lip, ...</td>\n",
       "      <td>face black people skin child head lip eyebrow ...</td>\n",
       "    </tr>\n",
       "  </tbody>\n",
       "</table>\n",
       "</div>"
      ],
      "text/plain": [
       "   Index                                        display_url  comments  \\\n",
       "0      0  https://instagram.fftw1-1.fna.fbcdn.net/v/t51....       145   \n",
       "1      2  https://instagram.fftw1-1.fna.fbcdn.net/v/t51....      1018   \n",
       "2      3  https://instagram.fftw1-1.fna.fbcdn.net/v/t51....       660   \n",
       "3      4  https://instagram.fftw1-1.fna.fbcdn.net/v/t51....      1458   \n",
       "4      5  https://instagram.fftw1-1.fna.fbcdn.net/v/t51....       540   \n",
       "\n",
       "   is_video   likes                                            caption  \\\n",
       "0     False   31505  Photo by Amber Bracken @photobracken | Jocelyn...   \n",
       "1     False  330690  Photo by Charlie Hamilton James @chamiltonjame...   \n",
       "2     False  217013  Photo by @brianskerry | A great white shark sw...   \n",
       "3     False  281516  Photo by @gabrielegalimbertiphoto and Juri De ...   \n",
       "4     False  161964  Photo by @amivitale | Jenabu, 13, waits for he...   \n",
       "\n",
       "                                              labels  \\\n",
       "0  [hair, beauty, hairstyle, skin, long, hair, li...   \n",
       "1  [sky, wildlife, natural, environment, ecoregio...   \n",
       "2  [great, white, shark, shark, lamniformes, tige...   \n",
       "3  [room, living, room, furniture, interior, desi...   \n",
       "4  [face, black, people, skin, child, head, lip, ...   \n",
       "\n",
       "                                      labels_strings  \n",
       "0  hair beauty hairstyle skin long hair lip hand ...  \n",
       "1  sky wildlife natural environment ecoregion mar...  \n",
       "2  great white shark shark lamniformes tiger shar...  \n",
       "3  room living room furniture interior design tab...  \n",
       "4  face black people skin child head lip eyebrow ...  "
      ]
     },
     "execution_count": 4,
     "metadata": {},
     "output_type": "execute_result"
    }
   ],
   "source": [
    "df.head()"
   ]
  },
  {
   "cell_type": "markdown",
   "metadata": {},
   "source": [
    "#### Create an engagement metric for each Instagram post\n",
    "Created a metric for engagement by using a weighted sum of # likes and # comments. However, first normalize # likes and # comments such that they both have values between 0 and 1. Now create an engagement score = .4*# likes (normalized) + .6*# comments (normalized). Define High (1) and Low (0) engagement based on whether the engagement score is above or below the median value.  "
   ]
  },
  {
   "cell_type": "code",
   "execution_count": 5,
   "metadata": {},
   "outputs": [],
   "source": [
    "## Normalize the number of likes and comments\n",
    "df[\"likes_normalized\"] = df[\"likes\"]/df[\"likes\"].max() \n",
    "df[\"comments_normalized\"] = df[\"comments\"]/df[\"comments\"].max()"
   ]
  },
  {
   "cell_type": "code",
   "execution_count": 6,
   "metadata": {},
   "outputs": [],
   "source": [
    "## Create engagement score\n",
    "df[\"engagement_score\"] = 0.4*df[\"likes_normalized\"] + 0.6*df[\"comments_normalized\"]"
   ]
  },
  {
   "cell_type": "code",
   "execution_count": 7,
   "metadata": {},
   "outputs": [],
   "source": [
    "## Define whether the post has \"high\" or \"low\" engagement based on the median score\n",
    "engagement_median = df[\"engagement_score\"].median()\n",
    "df[\"engagement\"] = df[\"engagement_score\"].apply(lambda x: 1 if x > engagement_median else 0)"
   ]
  },
  {
   "cell_type": "code",
   "execution_count": 8,
   "metadata": {},
   "outputs": [
    {
     "data": {
      "text/html": [
       "<div>\n",
       "<style scoped>\n",
       "    .dataframe tbody tr th:only-of-type {\n",
       "        vertical-align: middle;\n",
       "    }\n",
       "\n",
       "    .dataframe tbody tr th {\n",
       "        vertical-align: top;\n",
       "    }\n",
       "\n",
       "    .dataframe thead th {\n",
       "        text-align: right;\n",
       "    }\n",
       "</style>\n",
       "<table border=\"1\" class=\"dataframe\">\n",
       "  <thead>\n",
       "    <tr style=\"text-align: right;\">\n",
       "      <th></th>\n",
       "      <th>Index</th>\n",
       "      <th>display_url</th>\n",
       "      <th>comments</th>\n",
       "      <th>is_video</th>\n",
       "      <th>likes</th>\n",
       "      <th>caption</th>\n",
       "      <th>labels</th>\n",
       "      <th>labels_strings</th>\n",
       "      <th>likes_normalized</th>\n",
       "      <th>comments_normalized</th>\n",
       "      <th>engagement_score</th>\n",
       "      <th>engagement</th>\n",
       "    </tr>\n",
       "  </thead>\n",
       "  <tbody>\n",
       "    <tr>\n",
       "      <th>0</th>\n",
       "      <td>0</td>\n",
       "      <td>https://instagram.fftw1-1.fna.fbcdn.net/v/t51....</td>\n",
       "      <td>145</td>\n",
       "      <td>False</td>\n",
       "      <td>31505</td>\n",
       "      <td>Photo by Amber Bracken @photobracken | Jocelyn...</td>\n",
       "      <td>[hair, beauty, hairstyle, skin, long, hair, li...</td>\n",
       "      <td>hair beauty hairstyle skin long hair lip hand ...</td>\n",
       "      <td>0.019494</td>\n",
       "      <td>0.011139</td>\n",
       "      <td>0.014481</td>\n",
       "      <td>0</td>\n",
       "    </tr>\n",
       "    <tr>\n",
       "      <th>1</th>\n",
       "      <td>2</td>\n",
       "      <td>https://instagram.fftw1-1.fna.fbcdn.net/v/t51....</td>\n",
       "      <td>1018</td>\n",
       "      <td>False</td>\n",
       "      <td>330690</td>\n",
       "      <td>Photo by Charlie Hamilton James @chamiltonjame...</td>\n",
       "      <td>[sky, wildlife, natural, environment, ecoregio...</td>\n",
       "      <td>sky wildlife natural environment ecoregion mar...</td>\n",
       "      <td>0.204620</td>\n",
       "      <td>0.078205</td>\n",
       "      <td>0.128771</td>\n",
       "      <td>1</td>\n",
       "    </tr>\n",
       "    <tr>\n",
       "      <th>2</th>\n",
       "      <td>3</td>\n",
       "      <td>https://instagram.fftw1-1.fna.fbcdn.net/v/t51....</td>\n",
       "      <td>660</td>\n",
       "      <td>False</td>\n",
       "      <td>217013</td>\n",
       "      <td>Photo by @brianskerry | A great white shark sw...</td>\n",
       "      <td>[great, white, shark, shark, lamniformes, tige...</td>\n",
       "      <td>great white shark shark lamniformes tiger shar...</td>\n",
       "      <td>0.134280</td>\n",
       "      <td>0.050703</td>\n",
       "      <td>0.084134</td>\n",
       "      <td>0</td>\n",
       "    </tr>\n",
       "    <tr>\n",
       "      <th>3</th>\n",
       "      <td>4</td>\n",
       "      <td>https://instagram.fftw1-1.fna.fbcdn.net/v/t51....</td>\n",
       "      <td>1458</td>\n",
       "      <td>False</td>\n",
       "      <td>281516</td>\n",
       "      <td>Photo by @gabrielegalimbertiphoto and Juri De ...</td>\n",
       "      <td>[room, living, room, furniture, interior, desi...</td>\n",
       "      <td>room living room furniture interior design tab...</td>\n",
       "      <td>0.174193</td>\n",
       "      <td>0.112007</td>\n",
       "      <td>0.136882</td>\n",
       "      <td>1</td>\n",
       "    </tr>\n",
       "    <tr>\n",
       "      <th>4</th>\n",
       "      <td>5</td>\n",
       "      <td>https://instagram.fftw1-1.fna.fbcdn.net/v/t51....</td>\n",
       "      <td>540</td>\n",
       "      <td>False</td>\n",
       "      <td>161964</td>\n",
       "      <td>Photo by @amivitale | Jenabu, 13, waits for he...</td>\n",
       "      <td>[face, black, people, skin, child, head, lip, ...</td>\n",
       "      <td>face black people skin child head lip eyebrow ...</td>\n",
       "      <td>0.100218</td>\n",
       "      <td>0.041484</td>\n",
       "      <td>0.064978</td>\n",
       "      <td>0</td>\n",
       "    </tr>\n",
       "  </tbody>\n",
       "</table>\n",
       "</div>"
      ],
      "text/plain": [
       "   Index                                        display_url  comments  \\\n",
       "0      0  https://instagram.fftw1-1.fna.fbcdn.net/v/t51....       145   \n",
       "1      2  https://instagram.fftw1-1.fna.fbcdn.net/v/t51....      1018   \n",
       "2      3  https://instagram.fftw1-1.fna.fbcdn.net/v/t51....       660   \n",
       "3      4  https://instagram.fftw1-1.fna.fbcdn.net/v/t51....      1458   \n",
       "4      5  https://instagram.fftw1-1.fna.fbcdn.net/v/t51....       540   \n",
       "\n",
       "   is_video   likes                                            caption  \\\n",
       "0     False   31505  Photo by Amber Bracken @photobracken | Jocelyn...   \n",
       "1     False  330690  Photo by Charlie Hamilton James @chamiltonjame...   \n",
       "2     False  217013  Photo by @brianskerry | A great white shark sw...   \n",
       "3     False  281516  Photo by @gabrielegalimbertiphoto and Juri De ...   \n",
       "4     False  161964  Photo by @amivitale | Jenabu, 13, waits for he...   \n",
       "\n",
       "                                              labels  \\\n",
       "0  [hair, beauty, hairstyle, skin, long, hair, li...   \n",
       "1  [sky, wildlife, natural, environment, ecoregio...   \n",
       "2  [great, white, shark, shark, lamniformes, tige...   \n",
       "3  [room, living, room, furniture, interior, desi...   \n",
       "4  [face, black, people, skin, child, head, lip, ...   \n",
       "\n",
       "                                      labels_strings  likes_normalized  \\\n",
       "0  hair beauty hairstyle skin long hair lip hand ...          0.019494   \n",
       "1  sky wildlife natural environment ecoregion mar...          0.204620   \n",
       "2  great white shark shark lamniformes tiger shar...          0.134280   \n",
       "3  room living room furniture interior design tab...          0.174193   \n",
       "4  face black people skin child head lip eyebrow ...          0.100218   \n",
       "\n",
       "   comments_normalized  engagement_score  engagement  \n",
       "0             0.011139          0.014481           0  \n",
       "1             0.078205          0.128771           1  \n",
       "2             0.050703          0.084134           0  \n",
       "3             0.112007          0.136882           1  \n",
       "4             0.041484          0.064978           0  "
      ]
     },
     "execution_count": 8,
     "metadata": {},
     "output_type": "execute_result"
    }
   ],
   "source": [
    "df.head()"
   ]
  },
  {
   "cell_type": "markdown",
   "metadata": {},
   "source": [
    "### Regression Analysis\n",
    "Run a logistic regression with Engagement (binary) as the dependent variable, and the image labels as independent variables. Display the accuracy (confusion matrix). What accuracy do we get by using the post caption words as the independent variables instead of image labels? Finally, what accuracy do we get by combining the image labels and post captions and using them as independent variables? What can we conclude from our analysis? \n",
    "\n",
    "Note: Doing a word frequency analysis and word replacement on the image labels as well as captions will increase the accuracy of prediction. Needless to say, TF-IDF scores should be used. "
   ]
  },
  {
   "cell_type": "markdown",
   "metadata": {},
   "source": [
    "####  Logistic Regression with Labels to Predict Engagement"
   ]
  },
  {
   "cell_type": "code",
   "execution_count": 9,
   "metadata": {},
   "outputs": [],
   "source": [
    "import pandas as pd\n",
    "from pandas import DataFrame, Series\n",
    "import urllib.request \n",
    "import statsmodels.api as sm\n",
    "import math\n",
    "import numpy as np\n",
    "from sklearn.feature_extraction.text import TfidfVectorizer\n",
    "from sklearn.linear_model import LogisticRegression\n",
    "from sklearn.metrics import accuracy_score, roc_auc_score, confusion_matrix, f1_score\n",
    "from sklearn.model_selection import train_test_split"
   ]
  },
  {
   "cell_type": "code",
   "execution_count": 10,
   "metadata": {},
   "outputs": [
    {
     "name": "stderr",
     "output_type": "stream",
     "text": [
      "C:\\Users\\Sahana\\Anaconda3\\lib\\site-packages\\sklearn\\linear_model\\logistic.py:432: FutureWarning: Default solver will be changed to 'lbfgs' in 0.22. Specify a solver to silence this warning.\n",
      "  FutureWarning)\n"
     ]
    },
    {
     "name": "stdout",
     "output_type": "stream",
     "text": [
      "Accuracy with Image Labels: 0.7073170731707317\n",
      "Confusion Matrix:\n",
      "[[32  9]\n",
      " [15 26]]\n"
     ]
    }
   ],
   "source": [
    "## Keeping all labels intact and using tf-idf score\n",
    "vectorizer = TfidfVectorizer()\n",
    "X = vectorizer.fit_transform(df['labels_strings'].tolist())\n",
    "q = vectorizer.get_feature_names()\n",
    "l = pd.DataFrame(X.toarray())\n",
    "for i in range(len(q)):\n",
    "    l = l.rename(columns={i: q[i]}) \n",
    "\n",
    "l['engagement'] = df['engagement']\n",
    "\n",
    "\n",
    "X_train, X_test, y_train, y_test = train_test_split(l.iloc[:,:-1], l['engagement'], test_size=0.20, random_state=42)\n",
    "\n",
    "clf = LogisticRegression(random_state=0).fit(X_train,y_train )\n",
    "print(\"Accuracy with Image Labels: \" + str(clf.score(X_test, y_test)))\n",
    "print(\"Confusion Matrix:\")\n",
    "print(confusion_matrix(y_test, clf.predict(X_test)))"
   ]
  },
  {
   "cell_type": "markdown",
   "metadata": {},
   "source": [
    "#### Logistic Regression with Captions to Predict Engagement"
   ]
  },
  {
   "cell_type": "code",
   "execution_count": 11,
   "metadata": {},
   "outputs": [
    {
     "name": "stdout",
     "output_type": "stream",
     "text": [
      "Accuracy with Caption Labels: 0.6219512195121951\n",
      "Confusion Matrix:\n",
      "[[24 17]\n",
      " [14 27]]\n"
     ]
    }
   ],
   "source": [
    "## Keeping all captions intact and using tf-idf score\n",
    "vectorizer = TfidfVectorizer()\n",
    "X = vectorizer.fit_transform(df['caption'].tolist())\n",
    "q = vectorizer.get_feature_names()\n",
    "l = pd.DataFrame(X.toarray())\n",
    "for i in range(len(q)):\n",
    "    l = l.rename(columns={i: q[i]}) \n",
    "\n",
    "l['engagementVal'] = df['engagement']\n",
    "\n",
    "X_train, X_test, y_train, y_test = train_test_split(l.iloc[:,:-1], l['engagementVal'], test_size=0.20, random_state=42)\n",
    "\n",
    "clf = LogisticRegression(random_state=0, solver='lbfgs').fit(X_train,y_train )\n",
    "print(\"Accuracy with Caption Labels: \" + str(clf.score(X_test, y_test)))\n",
    "print(\"Confusion Matrix:\")\n",
    "print(confusion_matrix(y_test, clf.predict(X_test)))"
   ]
  },
  {
   "cell_type": "markdown",
   "metadata": {},
   "source": [
    "#### Logistic Regression with Captions and Labels to Predict Engagement"
   ]
  },
  {
   "cell_type": "code",
   "execution_count": 12,
   "metadata": {},
   "outputs": [],
   "source": [
    "df['caption+labels'] = df['caption'] + \" \" + df['labels_strings']"
   ]
  },
  {
   "cell_type": "code",
   "execution_count": 13,
   "metadata": {},
   "outputs": [
    {
     "name": "stdout",
     "output_type": "stream",
     "text": [
      "Accuracy with both Captions and Image Labels: 0.7185185185185186\n",
      "Confusion Matrix:\n",
      "[[52 15]\n",
      " [23 45]]\n"
     ]
    }
   ],
   "source": [
    "vectorizer = TfidfVectorizer()\n",
    "X = vectorizer.fit_transform(df['caption+labels'].tolist())\n",
    "q = vectorizer.get_feature_names()\n",
    "l = pd.DataFrame(X.toarray())\n",
    "for i in range(len(q)):\n",
    "    l = l.rename(columns={i: q[i]}) \n",
    "\n",
    "l['engagementVal'] = df['engagement']\n",
    "\n",
    "X_train, X_test, y_train, y_test = train_test_split(l.iloc[:,:-1], l['engagementVal'], test_size=0.33, random_state=42)\n",
    "\n",
    "clf = LogisticRegression(random_state=0, solver='lbfgs').fit(X_train,y_train )\n",
    "print(\"Accuracy with both Captions and Image Labels: \" + str(clf.score(X_test, y_test)))\n",
    "print(\"Confusion Matrix:\")\n",
    "print(confusion_matrix(y_test, clf.predict(X_test)))"
   ]
  },
  {
   "cell_type": "markdown",
   "metadata": {},
   "source": [
    "Looking at just the image labels from Google Vision, we can predict the engagement of the post with an accuracy of 70.7%. With the caption labels off of Instagram, our accuracy of predicting engagement is 62.2%. Combining the captions and labels, the achieved accuracy of our prediction increases to 71.9%. Thus, we can see that the best model to predict engagement will be by using both the captions and the labels. This makes sense, as the Instagram caption does bear some weight in determining engagement, but is not necessarily sufficient, as captions may be slightly unrelated to the actual image. Combining these captions with the labels off of Google Vision, we are able to better predict engagement, as Google Vision has already been exposed to a variety of images that can then be used to determine the labels."
   ]
  },
  {
   "cell_type": "markdown",
   "metadata": {},
   "source": [
    "### Topic Modeling\n",
    "Perform topic modeling (LDA) on the image labels. Choose an appropriate number of topics. You may want to start with 5, but adjust the number up or down depending on the word distributions you get. LDA should produce two outputs: (i) A file showing which words load on which topics, and (ii) a file showing topic weights for each image. \n",
    "\n",
    "Now take the quartiles with highest and lowest engagement scores. What are the differences in the average topic weights of pictures across the two quartiles (e.g., greater proportion of some topics in highest engagement quartile)? Show the main results in a table. "
   ]
  },
  {
   "cell_type": "code",
   "execution_count": 14,
   "metadata": {},
   "outputs": [
    {
     "name": "stderr",
     "output_type": "stream",
     "text": [
      "[nltk_data] Downloading package punkt to\n",
      "[nltk_data]     C:\\Users\\Sahana\\AppData\\Roaming\\nltk_data...\n",
      "[nltk_data]   Package punkt is already up-to-date!\n"
     ]
    },
    {
     "data": {
      "text/plain": [
       "True"
      ]
     },
     "execution_count": 14,
     "metadata": {},
     "output_type": "execute_result"
    }
   ],
   "source": [
    "# NLTK Stop words\n",
    "from nltk.corpus import stopwords\n",
    "stop_words = stopwords.words('english')\n",
    "import nltk\n",
    "nltk.download('punkt')"
   ]
  },
  {
   "cell_type": "code",
   "execution_count": 15,
   "metadata": {},
   "outputs": [],
   "source": [
    "## Removing stop words, punctuation and tokenizing\n",
    "stop = stopwords.words('english')\n",
    "## stop=stop+['photography']\n",
    "df[\"labels\"] = df[\"labels\"].astype(str)\n",
    "df[\"label_tokens\"] = df[\"labels\"].apply(lambda each_post: word_tokenize(re.sub(r'[^\\w\\s]',' ',each_post.lower())))\n",
    "df[\"label_tokens\"] = df[\"label_tokens\"].apply(lambda list_of_words: [x for x in list_of_words if x not in stop])"
   ]
  },
  {
   "cell_type": "code",
   "execution_count": 16,
   "metadata": {},
   "outputs": [],
   "source": [
    "def bigrams(words, bi_min=15, tri_min=10):\n",
    "    bigram = gensim.models.Phrases(words, min_count = bi_min)\n",
    "    bigram_mod = gensim.models.phrases.Phraser(bigram)\n",
    "    return bigram_mod\n",
    "\n",
    "def get_corpus(df):\n",
    "    \"\"\"\n",
    "    Get Bigram Model, Corpus, id2word mapping\n",
    "    \"\"\"\n",
    "    bigram = bigrams(df.label_tokens)\n",
    "    bigram = [bigram[review] for review in df.label_tokens]\n",
    "    id2word = gensim.corpora.Dictionary(bigram)\n",
    "    id2word.filter_extremes(no_below=10, no_above=0.35)\n",
    "    id2word.compactify()\n",
    "    corpus = [id2word.doc2bow(text) for text in bigram]\n",
    "    return corpus, id2word, bigram"
   ]
  },
  {
   "cell_type": "code",
   "execution_count": 17,
   "metadata": {},
   "outputs": [],
   "source": [
    "train_corpus, train_id2word, bigram_train = get_corpus(df)"
   ]
  },
  {
   "cell_type": "code",
   "execution_count": 18,
   "metadata": {},
   "outputs": [],
   "source": [
    "import logging\n",
    "logging.basicConfig(filename='lda_model.log', format='%(asctime)s : %(levelname)s : %(message)s', level=logging.INFO)\n",
    "\n",
    "with warnings.catch_warnings():\n",
    "    warnings.simplefilter('ignore')\n",
    "    lda_train = gensim.models.ldamulticore.LdaMulticore(\n",
    "                           corpus=train_corpus,\n",
    "                           num_topics=10,\n",
    "                           id2word=train_id2word,\n",
    "                           chunksize=100,\n",
    "                           workers=7, # Num. Processing Cores - 1\n",
    "                           passes=50,\n",
    "                           eval_every = 1,\n",
    "                           per_word_topics=True)\n",
    "    lda_train.save('lda_train.model')"
   ]
  },
  {
   "cell_type": "code",
   "execution_count": 19,
   "metadata": {},
   "outputs": [
    {
     "name": "stdout",
     "output_type": "stream",
     "text": [
      "The coherence of the LDA model is 0.35881249942559834\n"
     ]
    }
   ],
   "source": [
    "## Print coherence of the LDA model\n",
    "coherence_model_lda = CoherenceModel(model=lda_train, texts=bigram_train, dictionary=train_id2word, coherence='c_v')\n",
    "coherence_lda = coherence_model_lda.get_coherence()\n",
    "print(\"The coherence of the LDA model is\",coherence_lda)"
   ]
  },
  {
   "cell_type": "code",
   "execution_count": 20,
   "metadata": {},
   "outputs": [
    {
     "data": {
      "text/plain": [
       "[(0,\n",
       "  '0.134*\"fish\" + 0.104*\"organism\" + 0.099*\"human\" + 0.093*\"underwater\" + 0.092*\"marine\" + 0.087*\"biology\" + 0.078*\"art\" + 0.053*\"photography\" + 0.039*\"yellow\" + 0.038*\"water\"'),\n",
       " (1,\n",
       "  '0.155*\"photography\" + 0.110*\"black\" + 0.101*\"white\" + 0.077*\"monochrome\" + 0.076*\"hair\" + 0.049*\"photograph\" + 0.049*\"beauty\" + 0.049*\"skin\" + 0.045*\"head\" + 0.045*\"face\"'),\n",
       " (2,\n",
       "  '0.180*\"fun\" + 0.119*\"recreation\" + 0.113*\"horse\" + 0.082*\"vacation\" + 0.072*\"vehicle\" + 0.069*\"animal\" + 0.066*\"photography\" + 0.048*\"child\" + 0.041*\"adaptation\" + 0.037*\"sky\"'),\n",
       " (3,\n",
       "  '0.151*\"wildlife\" + 0.114*\"terrestrial_animal\" + 0.114*\"vertebrate\" + 0.108*\"mammal\" + 0.097*\"dog\" + 0.081*\"carnivore\" + 0.072*\"snout\" + 0.068*\"canidae\" + 0.043*\"felidae\" + 0.041*\"adaptation\"'),\n",
       " (4,\n",
       "  '0.173*\"plant\" + 0.158*\"tree\" + 0.079*\"nature\" + 0.075*\"rock\" + 0.064*\"forest\" + 0.051*\"woody\" + 0.051*\"natural_environment\" + 0.043*\"branch\" + 0.043*\"reserve\" + 0.034*\"landscape\"'),\n",
       " (5,\n",
       "  '0.099*\"sky\" + 0.088*\"grass\" + 0.085*\"night\" + 0.070*\"grassland\" + 0.060*\"area\" + 0.059*\"architecture\" + 0.044*\"field\" + 0.044*\"landscape\" + 0.043*\"photography\" + 0.040*\"plant\"'),\n",
       " (6,\n",
       "  '0.145*\"sky\" + 0.106*\"mountain\" + 0.079*\"cloud\" + 0.065*\"atmospheric_phenomenon\" + 0.060*\"blue\" + 0.059*\"nature\" + 0.052*\"atmosphere\" + 0.050*\"natural_landscape\" + 0.049*\"mountainous_landforms\" + 0.045*\"geological_phenomenon\"'),\n",
       " (7,\n",
       "  '0.298*\"water\" + 0.202*\"sea\" + 0.103*\"sky\" + 0.099*\"ocean\" + 0.068*\"green\" + 0.054*\"reflection\" + 0.043*\"marine\" + 0.039*\"mammal\" + 0.024*\"vehicle\" + 0.023*\"cloud\"'),\n",
       " (8,\n",
       "  '0.104*\"event\" + 0.086*\"photography\" + 0.072*\"room\" + 0.069*\"bird\" + 0.059*\"temple\" + 0.056*\"adaptation\" + 0.054*\"people\" + 0.053*\"tourism\" + 0.052*\"design\" + 0.049*\"crowd\"'),\n",
       " (9,\n",
       "  '0.169*\"ice\" + 0.109*\"natural_environment\" + 0.104*\"arctic\" + 0.098*\"reptile\" + 0.072*\"cap\" + 0.071*\"sand\" + 0.066*\"landform\" + 0.057*\"landscape\" + 0.051*\"sky\" + 0.039*\"winter\"')]"
      ]
     },
     "execution_count": 20,
     "metadata": {},
     "output_type": "execute_result"
    }
   ],
   "source": [
    "lda_train.print_topics()"
   ]
  },
  {
   "cell_type": "markdown",
   "metadata": {},
   "source": [
    "#### Visualize the Topics"
   ]
  },
  {
   "cell_type": "code",
   "execution_count": 21,
   "metadata": {},
   "outputs": [
    {
     "name": "stderr",
     "output_type": "stream",
     "text": [
      "C:\\Users\\Sahana\\Anaconda3\\lib\\site-packages\\pyLDAvis\\_prepare.py:257: FutureWarning: Sorting because non-concatenation axis is not aligned. A future version\n",
      "of pandas will change to not sort by default.\n",
      "\n",
      "To accept the future behavior, pass 'sort=False'.\n",
      "\n",
      "To retain the current behavior and silence the warning, pass 'sort=True'.\n",
      "\n",
      "  return pd.concat([default_term_info] + list(topic_dfs))\n"
     ]
    },
    {
     "data": {
      "text/html": [
       "\n",
       "<link rel=\"stylesheet\" type=\"text/css\" href=\"https://cdn.rawgit.com/bmabey/pyLDAvis/files/ldavis.v1.0.0.css\">\n",
       "\n",
       "\n",
       "<div id=\"ldavis_el1962025572848638166140106013\"></div>\n",
       "<script type=\"text/javascript\">\n",
       "\n",
       "var ldavis_el1962025572848638166140106013_data = {\"mdsDat\": {\"x\": [0.26968578354310463, -0.22378850020337077, 0.14262581892310142, -0.27026672110767735, 0.21041064600241047, -0.05840466820629563, 0.12586822991178173, -0.22353400687548713, 0.15365629339340892, -0.12625287538097751], \"y\": [-0.10968352034713613, -0.04212726548481166, -0.04380048901853061, -0.1475286709609402, -0.005698017658641589, 0.4076464540866293, 0.01663596234364062, 0.024509977151522887, 0.008217660585769218, -0.10817209069750154], \"topics\": [1, 2, 3, 4, 5, 6, 7, 8, 9, 10], \"cluster\": [1, 1, 1, 1, 1, 1, 1, 1, 1, 1], \"Freq\": [15.635615348815918, 11.666902542114258, 10.795197486877441, 10.750391006469727, 10.373978614807129, 10.305585861206055, 8.792016983032227, 7.6023430824279785, 7.143406391143799, 6.934556484222412]}, \"tinfo\": {\"Category\": [\"Default\", \"Default\", \"Default\", \"Default\", \"Default\", \"Default\", \"Default\", \"Default\", \"Default\", \"Default\", \"Default\", \"Default\", \"Default\", \"Default\", \"Default\", \"Default\", \"Default\", \"Default\", \"Default\", \"Default\", \"Default\", \"Default\", \"Default\", \"Default\", \"Default\", \"Default\", \"Default\", \"Default\", \"Default\", \"Default\", \"Topic1\", \"Topic1\", \"Topic1\", \"Topic1\", \"Topic1\", \"Topic1\", \"Topic1\", \"Topic1\", \"Topic1\", \"Topic1\", \"Topic1\", \"Topic1\", \"Topic1\", \"Topic1\", \"Topic1\", \"Topic1\", \"Topic1\", \"Topic1\", \"Topic1\", \"Topic1\", \"Topic1\", \"Topic1\", \"Topic1\", \"Topic1\", \"Topic1\", \"Topic1\", \"Topic1\", \"Topic1\", \"Topic1\", \"Topic1\", \"Topic1\", \"Topic1\", \"Topic1\", \"Topic1\", \"Topic1\", \"Topic1\", \"Topic2\", \"Topic2\", \"Topic2\", \"Topic2\", \"Topic2\", \"Topic2\", \"Topic2\", \"Topic2\", \"Topic2\", \"Topic2\", \"Topic2\", \"Topic2\", \"Topic2\", \"Topic2\", \"Topic2\", \"Topic2\", \"Topic2\", \"Topic2\", \"Topic2\", \"Topic2\", \"Topic2\", \"Topic2\", \"Topic2\", \"Topic2\", \"Topic2\", \"Topic2\", \"Topic2\", \"Topic2\", \"Topic2\", \"Topic2\", \"Topic2\", \"Topic2\", \"Topic2\", \"Topic2\", \"Topic3\", \"Topic3\", \"Topic3\", \"Topic3\", \"Topic3\", \"Topic3\", \"Topic3\", \"Topic3\", \"Topic3\", \"Topic3\", \"Topic3\", \"Topic3\", \"Topic3\", \"Topic3\", \"Topic3\", \"Topic3\", \"Topic3\", \"Topic3\", \"Topic3\", \"Topic3\", \"Topic3\", \"Topic3\", \"Topic3\", \"Topic3\", \"Topic3\", \"Topic3\", \"Topic3\", \"Topic3\", \"Topic3\", \"Topic3\", \"Topic3\", \"Topic3\", \"Topic3\", \"Topic3\", \"Topic4\", \"Topic4\", \"Topic4\", \"Topic4\", \"Topic4\", \"Topic4\", \"Topic4\", \"Topic4\", \"Topic4\", \"Topic4\", \"Topic4\", \"Topic4\", \"Topic4\", \"Topic4\", \"Topic4\", \"Topic4\", \"Topic4\", \"Topic4\", \"Topic4\", \"Topic4\", \"Topic4\", \"Topic4\", \"Topic4\", \"Topic4\", \"Topic4\", \"Topic4\", \"Topic4\", \"Topic4\", \"Topic4\", \"Topic4\", \"Topic4\", \"Topic4\", \"Topic4\", \"Topic4\", \"Topic4\", \"Topic4\", \"Topic4\", \"Topic4\", \"Topic4\", \"Topic5\", \"Topic5\", \"Topic5\", \"Topic5\", \"Topic5\", \"Topic5\", \"Topic5\", \"Topic5\", \"Topic5\", \"Topic5\", \"Topic5\", \"Topic5\", \"Topic5\", \"Topic5\", \"Topic5\", \"Topic5\", \"Topic5\", \"Topic5\", \"Topic5\", \"Topic5\", \"Topic5\", \"Topic5\", \"Topic5\", \"Topic5\", \"Topic5\", \"Topic5\", \"Topic5\", \"Topic5\", \"Topic5\", \"Topic5\", \"Topic5\", \"Topic5\", \"Topic5\", \"Topic5\", \"Topic5\", \"Topic5\", \"Topic5\", \"Topic6\", \"Topic6\", \"Topic6\", \"Topic6\", \"Topic6\", \"Topic6\", \"Topic6\", \"Topic6\", \"Topic6\", \"Topic6\", \"Topic6\", \"Topic6\", \"Topic6\", \"Topic6\", \"Topic6\", \"Topic6\", \"Topic6\", \"Topic6\", \"Topic6\", \"Topic6\", \"Topic6\", \"Topic6\", \"Topic6\", \"Topic6\", \"Topic6\", \"Topic6\", \"Topic6\", \"Topic6\", \"Topic6\", \"Topic6\", \"Topic6\", \"Topic6\", \"Topic6\", \"Topic6\", \"Topic6\", \"Topic6\", \"Topic6\", \"Topic6\", \"Topic6\", \"Topic6\", \"Topic6\", \"Topic6\", \"Topic6\", \"Topic6\", \"Topic6\", \"Topic7\", \"Topic7\", \"Topic7\", \"Topic7\", \"Topic7\", \"Topic7\", \"Topic7\", \"Topic7\", \"Topic7\", \"Topic7\", \"Topic7\", \"Topic7\", \"Topic7\", \"Topic7\", \"Topic7\", \"Topic7\", \"Topic7\", \"Topic7\", \"Topic7\", \"Topic7\", \"Topic7\", \"Topic7\", \"Topic7\", \"Topic7\", \"Topic7\", \"Topic7\", \"Topic7\", \"Topic7\", \"Topic7\", \"Topic7\", \"Topic7\", \"Topic7\", \"Topic7\", \"Topic7\", \"Topic7\", \"Topic7\", \"Topic7\", \"Topic7\", \"Topic7\", \"Topic7\", \"Topic7\", \"Topic7\", \"Topic7\", \"Topic7\", \"Topic7\", \"Topic7\", \"Topic7\", \"Topic7\", \"Topic8\", \"Topic8\", \"Topic8\", \"Topic8\", \"Topic8\", \"Topic8\", \"Topic8\", \"Topic8\", \"Topic8\", \"Topic8\", \"Topic8\", \"Topic8\", \"Topic8\", \"Topic8\", \"Topic8\", \"Topic8\", \"Topic8\", \"Topic8\", \"Topic8\", \"Topic8\", \"Topic8\", \"Topic8\", \"Topic8\", \"Topic8\", \"Topic8\", \"Topic8\", \"Topic8\", \"Topic8\", \"Topic8\", \"Topic8\", \"Topic8\", \"Topic8\", \"Topic8\", \"Topic8\", \"Topic8\", \"Topic8\", \"Topic8\", \"Topic8\", \"Topic8\", \"Topic8\", \"Topic8\", \"Topic8\", \"Topic9\", \"Topic9\", \"Topic9\", \"Topic9\", \"Topic9\", \"Topic9\", \"Topic9\", \"Topic9\", \"Topic9\", \"Topic9\", \"Topic9\", \"Topic9\", \"Topic9\", \"Topic9\", \"Topic9\", \"Topic9\", \"Topic9\", \"Topic9\", \"Topic9\", \"Topic9\", \"Topic9\", \"Topic9\", \"Topic9\", \"Topic9\", \"Topic9\", \"Topic9\", \"Topic9\", \"Topic9\", \"Topic9\", \"Topic9\", \"Topic9\", \"Topic9\", \"Topic9\", \"Topic9\", \"Topic9\", \"Topic9\", \"Topic9\", \"Topic9\", \"Topic9\", \"Topic9\", \"Topic9\", \"Topic10\", \"Topic10\", \"Topic10\", \"Topic10\", \"Topic10\", \"Topic10\", \"Topic10\", \"Topic10\", \"Topic10\", \"Topic10\", \"Topic10\", \"Topic10\", \"Topic10\", \"Topic10\", \"Topic10\", \"Topic10\", \"Topic10\", \"Topic10\", \"Topic10\", \"Topic10\", \"Topic10\", \"Topic10\", \"Topic10\", \"Topic10\", \"Topic10\", \"Topic10\", \"Topic10\", \"Topic10\", \"Topic10\", \"Topic10\", \"Topic10\", \"Topic10\", \"Topic10\", \"Topic10\", \"Topic10\", \"Topic10\", \"Topic10\", \"Topic10\", \"Topic10\", \"Topic10\", \"Topic10\", \"Topic10\", \"Topic10\"], \"Freq\": [78.0, 40.0, 50.0, 55.0, 32.0, 88.0, 27.0, 115.0, 37.0, 52.0, 23.0, 26.0, 27.0, 27.0, 27.0, 33.0, 31.0, 30.0, 19.0, 23.0, 26.0, 27.0, 18.0, 41.0, 24.0, 24.0, 28.0, 17.0, 23.0, 41.0, 36.683109283447266, 17.91421890258789, 16.981508255004883, 13.228346824645996, 20.709007263183594, 11.014559745788574, 22.606163024902344, 8.536287307739258, 15.517081260681152, 27.256635665893555, 17.143985748291016, 12.313942909240723, 20.589637756347656, 50.363006591796875, 4.98341703414917, 7.990991115570068, 7.267518997192383, 2.632819890975952, 4.318154335021973, 10.554482460021973, 6.119629383087158, 2.2965664863586426, 2.2870934009552, 0.09382271766662598, 0.09382180869579315, 0.09382180869579315, 0.09382180869579315, 0.09517533332109451, 0.09383047372102737, 0.09391756355762482, 0.09727539867162704, 0.09711730480194092, 0.09872136265039444, 0.09434535354375839, 0.09422501921653748, 0.09404545277357101, 26.867643356323242, 17.948108673095703, 15.268624305725098, 13.48365306854248, 12.581862449645996, 9.01876163482666, 9.018754005432129, 18.719270706176758, 8.651951789855957, 13.749185562133789, 12.411052703857422, 6.61240291595459, 13.88099193572998, 3.922369956970215, 14.35158634185791, 5.990228652954102, 5.779036998748779, 4.748095512390137, 22.307554244995117, 1.875083088874817, 4.045840740203857, 4.478850841522217, 1.2611987590789795, 1.0867338180541992, 1.0117061138153076, 2.9746153354644775, 0.08929780125617981, 0.08929705619812012, 0.08930671960115433, 0.08929705619812012, 0.09016343206167221, 0.09045392274856567, 0.09190168976783752, 0.09079250693321228, 14.360845565795898, 10.555156707763672, 21.005128860473633, 16.767745971679688, 9.494244575500488, 8.596105575561523, 20.40289878845215, 14.007078170776367, 6.752413749694824, 7.500922679901123, 10.400331497192383, 4.05038595199585, 9.330780982971191, 4.720989227294922, 23.699689865112305, 3.945783853530884, 9.577338218688965, 8.129387855529785, 7.517482757568359, 1.4247905015945435, 3.477262496948242, 10.215879440307617, 2.0142390727996826, 1.385462999343872, 1.1024975776672363, 1.1187173128128052, 0.32071927189826965, 0.09520448744297028, 0.09510587155818939, 0.09511616080999374, 0.6426536440849304, 0.09896109998226166, 0.10073962062597275, 0.09924443066120148, 26.1556396484375, 18.435134887695312, 18.176000595092773, 11.678380966186523, 11.672340393066406, 11.669829368591309, 10.70711612701416, 10.706876754760742, 9.670254707336426, 24.14190673828125, 36.844417572021484, 9.808155059814453, 9.022441864013672, 5.113361835479736, 2.987816333770752, 3.957235813140869, 3.1238956451416016, 4.123865127563477, 1.0644357204437256, 1.575342059135437, 0.0965275913476944, 0.0965232327580452, 0.09714202582836151, 0.09659295529127121, 0.09652025997638702, 0.09653069823980331, 0.09657008945941925, 0.09659338742494583, 0.09654603898525238, 0.09652025997638702, 0.10601222515106201, 0.11841532588005066, 0.10527988523244858, 0.09693624824285507, 0.09680592268705368, 0.09677059948444366, 0.09673120081424713, 0.09672699868679047, 0.096723772585392, 14.622468948364258, 11.717625617980957, 9.780804634094238, 9.779387474060059, 39.828948974609375, 36.314674377441406, 17.183652877807617, 18.056730270385742, 11.717595100402832, 6.847181797027588, 7.903359889984131, 3.003389835357666, 6.169159412384033, 2.4617974758148193, 7.452120780944824, 3.015568256378174, 4.975101470947266, 7.0329179763793945, 3.707395315170288, 0.6331279873847961, 0.10433456301689148, 0.09687741845846176, 0.09684169292449951, 0.1029047816991806, 0.09684169292449951, 0.09685630351305008, 0.0968613475561142, 0.09694075584411621, 0.1774565726518631, 0.09685216844081879, 0.09775587916374207, 0.09990661591291428, 0.10419700294733047, 0.10069245845079422, 0.09824368357658386, 0.09804362803697586, 0.09747747331857681, 26.078584671020508, 22.23029899597168, 18.38085174560547, 16.45602035522461, 15.493809700012207, 26.077999114990234, 9.719534873962402, 24.625375747680664, 34.39234924316406, 5.588129043579102, 7.874159812927246, 9.39309024810791, 1.938649296760559, 2.020751953125, 0.09625784307718277, 0.09624691307544708, 0.09623542428016663, 0.09623542428016663, 0.09631611406803131, 0.09623639285564423, 0.09624262899160385, 0.09625110775232315, 0.09623542428016663, 0.09625624865293503, 0.09623542428016663, 0.09625241160392761, 0.09623542428016663, 0.09623542428016663, 0.09623542428016663, 0.09623542428016663, 0.09722717106342316, 0.09787019342184067, 0.09672713279724121, 0.09659808874130249, 0.09641646593809128, 0.09632792323827744, 0.09631145745515823, 0.09628555923700333, 0.09628214687108994, 0.09627009183168411, 0.09626833349466324, 0.09626665711402893, 0.09626665711402893, 0.09626665711402893, 0.09626665711402893, 39.3803825378418, 19.28436279296875, 57.95430374145508, 13.31461238861084, 10.424049377441406, 8.46746826171875, 4.672573089599609, 7.681976318359375, 20.091796875, 4.477898597717285, 0.10093412548303604, 0.10093169659376144, 0.17196673154830933, 0.10093388706445694, 0.10093173384666443, 0.10145863145589828, 0.10093232244253159, 0.10098225623369217, 0.10094261914491653, 0.10093430429697037, 0.10093169659376144, 0.1009320542216301, 0.10096561163663864, 0.10093169659376144, 0.10094335675239563, 0.10093171149492264, 0.10093169659376144, 0.1009359136223793, 0.10093823820352554, 0.10095412284135818, 0.2019127756357193, 0.1363154798746109, 0.10551094263792038, 0.1094103455543518, 0.10115142166614532, 0.10210151970386505, 0.10148025304079056, 0.10116780549287796, 0.10110588371753693, 0.10109622776508331, 0.10108145326375961, 0.10107635706663132, 0.1010623499751091, 0.10106039047241211, 0.10105583816766739, 0.10102744400501251, 0.10101839154958725, 0.10101034492254257, 22.528200149536133, 15.666834831237793, 14.721710205078125, 17.546768188476562, 13.157506942749023, 15.419000625610352, 6.619468688964844, 16.613962173461914, 3.8155367374420166, 6.033560276031494, 6.209253311157227, 2.2633793354034424, 8.870972633361816, 1.1473654508590698, 2.521467685699463, 6.379764080047607, 1.0726797580718994, 0.09754309803247452, 0.09752701222896576, 0.09752701222896576, 0.09752701222896576, 0.09752701222896576, 0.097537562251091, 0.097537562251091, 0.09752701222896576, 0.09752701222896576, 0.10290316492319107, 0.10273902863264084, 0.09752701222896576, 0.0975276455283165, 0.10270795226097107, 0.09761719405651093, 0.09983794391155243, 0.09858573228120804, 0.09833937138319016, 0.09821761399507523, 0.09798584878444672, 0.0979175716638565, 0.09771299362182617, 0.09766659140586853, 0.09765082597732544, 0.09765069931745529, 26.72553253173828, 15.52142333984375, 16.476970672607422, 11.409724235534668, 10.378138542175293, 11.273402214050293, 17.221389770507812, 6.1176228523254395, 9.061649322509766, 4.203912258148193, 4.214413166046143, 1.185367226600647, 1.1306482553482056, 1.1306473016738892, 2.2844033241271973, 8.132231712341309, 2.4184188842773438, 1.1305958032608032, 0.10289954394102097, 0.10279224067926407, 0.10279224067926407, 0.10279224067926407, 0.10279224067926407, 0.10279224067926407, 0.1028117686510086, 0.1072133406996727, 0.10279224067926407, 0.10432010143995285, 0.10279318690299988, 0.10279224067926407, 0.13057921826839447, 0.10881124436855316, 0.13418421149253845, 0.1307125687599182, 0.10661707818508148, 0.1118694394826889, 0.10322845727205276, 0.10386157035827637, 0.10455181449651718, 0.10375653207302094, 0.10367204993963242, 18.29314422607422, 17.334716796875, 12.546733856201172, 10.630496978759766, 27.705965042114258, 11.06445598602295, 5.5500969886779785, 7.338371753692627, 4.598629474639893, 6.318089485168457, 10.062719345092773, 1.0535129308700562, 2.03692889213562, 1.7841395139694214, 5.668926239013672, 3.4580283164978027, 0.2189718782901764, 0.2273670732975006, 0.09585648775100708, 0.09580107033252716, 0.10183990746736526, 0.09580258280038834, 0.0957917645573616, 0.09578590095043182, 0.09578016400337219, 0.09582427889108658, 0.09578016400337219, 0.09580378979444504, 0.09578016400337219, 0.09629509598016739, 0.169244647026062, 0.1338043510913849, 0.11623667925596237, 0.10409596562385559, 0.10866773128509521, 0.09663794934749603, 0.09599463641643524, 0.09864754974842072, 0.09614631533622742, 0.09610725194215775, 0.09651371091604233, 0.09667178988456726, 0.09636230021715164], \"Term\": [\"water\", \"sea\", \"plant\", \"tree\", \"fun\", \"photography\", \"ice\", \"sky\", \"mountain\", \"wildlife\", \"fish\", \"terrestrial_animal\", \"black\", \"vertebrate\", \"event\", \"mammal\", \"natural_environment\", \"white\", \"recreation\", \"dog\", \"organism\", \"human\", \"horse\", \"nature\", \"ocean\", \"marine\", \"night\", \"arctic\", \"grass\", \"cloud\", \"mountain\", \"atmosphere\", \"mountainous_landforms\", \"horizon\", \"blue\", \"morning\", \"atmospheric_phenomenon\", \"hill\", \"geological_phenomenon\", \"cloud\", \"natural_landscape\", \"wilderness\", \"nature\", \"sky\", \"light\", \"rock\", \"night\", \"winter\", \"reflection\", \"tree\", \"water\", \"landscape\", \"natural_environment\", \"tradition\", \"beak\", \"group\", \"family\", \"reserve\", \"ecoregion\", \"felidae\", \"landform\", \"ocean\", \"sea\", \"wildlife\", \"grassland\", \"terrestrial_animal\", \"event\", \"bird\", \"temple\", \"design\", \"crowd\", \"beak\", \"tradition\", \"room\", \"geology\", \"tourism\", \"smile\", \"leisure\", \"people\", \"group\", \"adaptation\", \"art\", \"architecture\", \"child\", \"photography\", \"family\", \"geological_phenomenon\", \"rock\", \"yellow\", \"city\", \"darkness\", \"wildlife\", \"ecoregion\", \"felidae\", \"reserve\", \"branch\", \"head\", \"light\", \"organism\", \"vertebrate\", \"area\", \"field\", \"grass\", \"grassland\", \"city\", \"ecoregion\", \"night\", \"architecture\", \"family\", \"light\", \"landscape\", \"darkness\", \"cloud\", \"green\", \"sky\", \"reflection\", \"plant\", \"tree\", \"wildlife\", \"geology\", \"natural_landscape\", \"photography\", \"vehicle\", \"morning\", \"people\", \"nature\", \"hair\", \"tradition\", \"beak\", \"group\", \"water\", \"sand\", \"atmosphere\", \"wilderness\", \"black\", \"monochrome\", \"hair\", \"photograph\", \"beauty\", \"skin\", \"head\", \"face\", \"lady\", \"white\", \"photography\", \"human\", \"people\", \"smile\", \"darkness\", \"child\", \"room\", \"fun\", \"green\", \"nature\", \"tradition\", \"beak\", \"group\", \"family\", \"ecoregion\", \"felidae\", \"yellow\", \"reserve\", \"branch\", \"geology\", \"crowd\", \"rock\", \"event\", \"forest\", \"tree\", \"plant\", \"night\", \"art\", \"tourism\", \"forest\", \"woody\", \"branch\", \"reserve\", \"plant\", \"tree\", \"rock\", \"nature\", \"natural_environment\", \"wilderness\", \"landscape\", \"hill\", \"natural_landscape\", \"winter\", \"adaptation\", \"green\", \"wildlife\", \"sky\", \"water\", \"grassland\", \"ecoregion\", \"beak\", \"tradition\", \"geology\", \"group\", \"family\", \"felidae\", \"yellow\", \"reflection\", \"landform\", \"field\", \"morning\", \"geological_phenomenon\", \"atmospheric_phenomenon\", \"horse\", \"tourism\", \"organism\", \"terrestrial_animal\", \"dog\", \"carnivore\", \"snout\", \"canidae\", \"vertebrate\", \"felidae\", \"mammal\", \"wildlife\", \"group\", \"organism\", \"adaptation\", \"grassland\", \"grass\", \"tradition\", \"beak\", \"family\", \"ecoregion\", \"reserve\", \"yellow\", \"branch\", \"geology\", \"landform\", \"city\", \"field\", \"animal\", \"head\", \"face\", \"lady\", \"winter\", \"black\", \"sky\", \"white\", \"fish\", \"marine\", \"biology\", \"blue\", \"underwater\", \"smile\", \"water\", \"photography\", \"atmosphere\", \"cloud\", \"art\", \"area\", \"sea\", \"ocean\", \"water\", \"green\", \"reflection\", \"marine\", \"vehicle\", \"mammal\", \"sky\", \"cloud\", \"beak\", \"tradition\", \"arctic\", \"group\", \"family\", \"ecoregion\", \"felidae\", \"yellow\", \"branch\", \"reserve\", \"geology\", \"landform\", \"city\", \"field\", \"animal\", \"head\", \"face\", \"lady\", \"winter\", \"sand\", \"ice\", \"wildlife\", \"biology\", \"natural_environment\", \"vacation\", \"photography\", \"grassland\", \"natural_landscape\", \"room\", \"art\", \"organism\", \"snout\", \"vertebrate\", \"adaptation\", \"architecture\", \"leisure\", \"fun\", \"tree\", \"fish\", \"underwater\", \"biology\", \"organism\", \"art\", \"marine\", \"yellow\", \"human\", \"darkness\", \"white\", \"adaptation\", \"child\", \"photography\", \"lady\", \"people\", \"water\", \"vertebrate\", \"beak\", \"tradition\", \"group\", \"family\", \"ecoregion\", \"felidae\", \"reserve\", \"branch\", \"geology\", \"face\", \"head\", \"landform\", \"city\", \"skin\", \"field\", \"smile\", \"temple\", \"sea\", \"wildlife\", \"plant\", \"night\", \"room\", \"forest\", \"terrestrial_animal\", \"hair\", \"ice\", \"reptile\", \"arctic\", \"cap\", \"landform\", \"sand\", \"natural_environment\", \"winter\", \"landscape\", \"ocean\", \"atmospheric_phenomenon\", \"ecoregion\", \"family\", \"yellow\", \"geological_phenomenon\", \"sky\", \"wildlife\", \"people\", \"beak\", \"tradition\", \"group\", \"felidae\", \"reserve\", \"branch\", \"geology\", \"lady\", \"city\", \"face\", \"field\", \"animal\", \"underwater\", \"beauty\", \"hair\", \"green\", \"skin\", \"adaptation\", \"head\", \"smile\", \"water\", \"photography\", \"organism\", \"recreation\", \"horse\", \"vacation\", \"animal\", \"fun\", \"vehicle\", \"leisure\", \"child\", \"tourism\", \"adaptation\", \"photography\", \"yellow\", \"blue\", \"people\", \"sky\", \"water\", \"sand\", \"reflection\", \"tradition\", \"beak\", \"geology\", \"group\", \"family\", \"ecoregion\", \"felidae\", \"branch\", \"reserve\", \"landform\", \"city\", \"field\", \"sea\", \"landscape\", \"organism\", \"underwater\", \"grass\", \"beauty\", \"lady\", \"tree\", \"photograph\", \"skin\", \"hair\", \"plant\", \"human\"], \"Total\": [78.0, 40.0, 50.0, 55.0, 32.0, 88.0, 27.0, 115.0, 37.0, 52.0, 23.0, 26.0, 27.0, 27.0, 27.0, 33.0, 31.0, 30.0, 19.0, 23.0, 26.0, 27.0, 18.0, 41.0, 24.0, 24.0, 28.0, 17.0, 23.0, 41.0, 37.55523681640625, 18.79100227355957, 17.85271453857422, 14.09982681274414, 23.521615982055664, 13.179078102111816, 27.59381103515625, 12.31395149230957, 22.533794403076172, 41.741111755371094, 27.4698486328125, 19.939624786376953, 41.923274993896484, 115.37043762207031, 13.261505126953125, 30.360445022583008, 28.447237014770508, 11.883745193481445, 19.575231552124023, 55.68107604980469, 78.64855194091797, 30.27635383605957, 31.906333923339844, 9.894515991210938, 9.894514083862305, 10.290475845336914, 10.435901641845703, 10.648930549621582, 10.556463241577148, 10.58834457397461, 11.243698120117188, 24.25303840637207, 40.32377624511719, 52.79929733276367, 20.01717185974121, 26.948402404785156, 27.754716873168945, 18.824228286743164, 16.145401000976562, 14.359374046325684, 13.467076301574707, 9.894514083862305, 9.894515991210938, 22.622644424438477, 10.869415283203125, 19.129051208496094, 18.30698013305664, 12.942595481872559, 29.830007553100586, 10.290475845336914, 44.22276306152344, 19.92629051208496, 20.56683921813965, 18.893110275268555, 88.79440307617188, 10.435901641845703, 22.533794403076172, 30.360445022583008, 10.644498825073242, 11.36151123046875, 12.451992988586426, 52.79929733276367, 10.556463241577148, 10.58834457397461, 10.648930549621582, 10.648967742919922, 11.582039833068848, 13.261505126953125, 26.21677589416504, 27.92348861694336, 15.230677604675293, 11.4264554977417, 23.812828063964844, 20.01717185974121, 11.36151123046875, 10.556463241577148, 28.447237014770508, 20.56683921813965, 10.435901641845703, 13.261505126953125, 30.27635383605957, 12.451992988586426, 41.741111755371094, 22.719207763671875, 115.37043762207031, 19.575231552124023, 50.180938720703125, 55.68107604980469, 52.79929733276367, 10.869415283203125, 27.4698486328125, 88.79440307617188, 18.42484474182129, 13.179078102111816, 29.830007553100586, 41.923274993896484, 19.302196502685547, 9.894515991210938, 9.894514083862305, 10.290475845336914, 78.64855194091797, 12.262581825256348, 18.79100227355957, 19.939624786376953, 27.0252628326416, 19.30366325378418, 19.302196502685547, 12.547245025634766, 12.547599792480469, 12.547524452209473, 11.582039833068848, 11.582189559936523, 11.593110084533691, 30.94734764099121, 88.79440307617188, 27.195661544799805, 29.830007553100586, 18.30698013305664, 12.451992988586426, 18.893110275268555, 22.622644424438477, 32.60310363769531, 22.719207763671875, 41.923274993896484, 9.894515991210938, 9.894514083862305, 10.290475845336914, 10.435901641845703, 10.556463241577148, 10.58834457397461, 10.644498825073242, 10.648930549621582, 10.648967742919922, 10.869415283203125, 13.467076301574707, 30.360445022583008, 27.754716873168945, 15.491064071655273, 55.68107604980469, 50.180938720703125, 28.447237014770508, 19.92629051208496, 19.129051208496094, 15.491064071655273, 12.5858154296875, 10.648967742919922, 10.648930549621582, 50.180938720703125, 55.68107604980469, 30.360445022583008, 41.923274993896484, 31.906333923339844, 19.939624786376953, 30.27635383605957, 12.31395149230957, 27.4698486328125, 11.883745193481445, 44.22276306152344, 22.719207763671875, 52.79929733276367, 115.37043762207031, 78.64855194091797, 20.01717185974121, 10.556463241577148, 9.894514083862305, 9.894515991210938, 10.869415283203125, 10.290475845336914, 10.435901641845703, 10.58834457397461, 10.644498825073242, 19.575231552124023, 11.243698120117188, 11.4264554977417, 13.179078102111816, 22.533794403076172, 27.59381103515625, 18.205249786376953, 19.129051208496094, 26.21677589416504, 26.948402404785156, 23.09896469116211, 19.249547958374023, 17.32484245300293, 16.362478256225586, 27.92348861694336, 10.58834457397461, 33.075199127197266, 52.79929733276367, 10.290475845336914, 26.21677589416504, 44.22276306152344, 20.01717185974121, 23.812828063964844, 9.894515991210938, 9.894514083862305, 10.435901641845703, 10.556463241577148, 10.648930549621582, 10.644498825073242, 10.648967742919922, 10.869415283203125, 11.243698120117188, 11.36151123046875, 11.4264554977417, 11.500602722167969, 11.582039833068848, 11.582189559936523, 11.593110084533691, 11.883745193481445, 27.0252628326416, 115.37043762207031, 30.94734764099121, 23.396026611328125, 24.653505325317383, 15.594035148620605, 23.521615982055664, 16.570390701293945, 18.30698013305664, 78.64855194091797, 88.79440307617188, 18.79100227355957, 41.741111755371094, 19.92629051208496, 15.230677604675293, 40.32377624511719, 24.25303840637207, 78.64855194091797, 22.719207763671875, 19.575231552124023, 24.653505325317383, 18.42484474182129, 33.075199127197266, 115.37043762207031, 41.741111755371094, 9.894514083862305, 9.894515991210938, 17.41025733947754, 10.290475845336914, 10.435901641845703, 10.556463241577148, 10.58834457397461, 10.644498825073242, 10.648967742919922, 10.648930549621582, 10.869415283203125, 11.243698120117188, 11.36151123046875, 11.4264554977417, 11.500602722167969, 11.582039833068848, 11.582189559936523, 11.593110084533691, 11.883745193481445, 12.262581825256348, 27.688915252685547, 52.79929733276367, 15.594035148620605, 31.906333923339844, 13.41620922088623, 88.79440307617188, 20.01717185974121, 27.4698486328125, 22.622644424438477, 19.92629051208496, 26.21677589416504, 17.32484245300293, 27.92348861694336, 44.22276306152344, 20.56683921813965, 12.942595481872559, 32.60310363769531, 55.68107604980469, 23.396026611328125, 16.570390701293945, 15.594035148620605, 26.21677589416504, 19.92629051208496, 24.653505325317383, 10.644498825073242, 27.195661544799805, 12.451992988586426, 30.94734764099121, 44.22276306152344, 18.893110275268555, 88.79440307617188, 11.593110084533691, 29.830007553100586, 78.64855194091797, 27.92348861694336, 9.894514083862305, 9.894515991210938, 10.290475845336914, 10.435901641845703, 10.556463241577148, 10.58834457397461, 10.648930549621582, 10.648967742919922, 10.869415283203125, 11.582189559936523, 11.582039833068848, 11.243698120117188, 11.36151123046875, 12.547524452209473, 11.4264554977417, 18.30698013305664, 16.145401000976562, 40.32377624511719, 52.79929733276367, 50.180938720703125, 28.447237014770508, 22.622644424438477, 15.491064071655273, 26.948402404785156, 19.302196502685547, 27.688915252685547, 16.383590698242188, 17.41025733947754, 12.271950721740723, 11.243698120117188, 12.262581825256348, 31.906333923339844, 11.883745193481445, 30.27635383605957, 24.25303840637207, 27.59381103515625, 10.556463241577148, 10.435901641845703, 10.644498825073242, 22.533794403076172, 115.37043762207031, 52.79929733276367, 29.830007553100586, 9.894514083862305, 9.894515991210938, 10.290475845336914, 10.58834457397461, 10.648930549621582, 10.648967742919922, 10.869415283203125, 11.593110084533691, 11.36151123046875, 11.582189559936523, 11.4264554977417, 11.500602722167969, 16.570390701293945, 12.547599792480469, 19.302196502685547, 22.719207763671875, 12.547524452209473, 44.22276306152344, 11.582039833068848, 18.30698013305664, 78.64855194091797, 88.79440307617188, 26.21677589416504, 19.16301918029785, 18.205249786376953, 13.41620922088623, 11.500602722167969, 32.60310363769531, 18.42484474182129, 12.942595481872559, 18.893110275268555, 19.129051208496094, 44.22276306152344, 88.79440307617188, 10.644498825073242, 23.521615982055664, 29.830007553100586, 115.37043762207031, 78.64855194091797, 12.262581825256348, 19.575231552124023, 9.894515991210938, 9.894514083862305, 10.869415283203125, 10.290475845336914, 10.435901641845703, 10.556463241577148, 10.58834457397461, 10.648967742919922, 10.648930549621582, 11.243698120117188, 11.36151123046875, 11.4264554977417, 40.32377624511719, 30.27635383605957, 26.21677589416504, 16.570390701293945, 23.812828063964844, 12.547599792480469, 11.593110084533691, 55.68107604980469, 12.547245025634766, 12.547524452209473, 19.302196502685547, 50.180938720703125, 27.195661544799805], \"loglift\": [30.0, 29.0, 28.0, 27.0, 26.0, 25.0, 24.0, 23.0, 22.0, 21.0, 20.0, 19.0, 18.0, 17.0, 16.0, 15.0, 14.0, 13.0, 12.0, 11.0, 10.0, 9.0, 8.0, 7.0, 6.0, 5.0, 4.0, 3.0, 2.0, 1.0, 1.8321000337600708, 1.807800054550171, 1.8056000471115112, 1.7918000221252441, 1.7282999753952026, 1.676200032234192, 1.6562000513076782, 1.4891999959945679, 1.4824999570846558, 1.4293999671936035, 1.3841999769210815, 1.3736000061035156, 1.1446000337600708, 1.0267000198364258, 0.8769000172615051, 0.520799994468689, 0.4909999966621399, 0.34850001335144043, 0.3441999852657318, 0.19249999523162842, -0.6978999972343445, -0.7232999801635742, -0.7799000144004822, -2.8027000427246094, -2.8027000427246094, -2.8420000076293945, -2.8559999465942383, -2.8619000911712646, -2.8673999309539795, -2.869499921798706, -2.894399881362915, -3.664799928665161, -4.156799793243408, -4.471700191497803, -3.503000020980835, -3.802299976348877, 2.1159000396728516, 2.100800037384033, 2.092600107192993, 2.0855000019073486, 2.080399990081787, 2.0557000637054443, 2.0557000637054443, 1.9589999914169312, 1.920199990272522, 1.8181999921798706, 1.7596999406814575, 1.4767999649047852, 1.3833999633789062, 1.183899998664856, 1.0230000019073486, 0.9465000033378601, 0.8790000081062317, 0.7674000263214111, 0.7670000195503235, 0.4318000078201294, 0.4311000108718872, 0.2345999926328659, 0.015399999916553497, -0.19859999418258667, -0.3617999851703644, -0.7279999852180481, -2.6240999698638916, -2.6270999908447266, -2.632699966430664, -2.6328001022338867, -2.707200050354004, -2.839400053024292, -3.505000114440918, -3.580199956893921, 2.16729998588562, 2.1468000411987305, 2.100600004196167, 2.0488998889923096, 2.0464999675750732, 2.0206000804901123, 1.8937000036239624, 1.8420000076293945, 1.7906999588012695, 1.6562000513076782, 1.1575000286102295, 1.1030000448226929, 0.7279000282287598, 0.6549000144004822, 0.6434000134468079, 0.6244999766349792, 0.5698000192642212, 0.3018999993801117, 0.2768000066280365, 0.1941000074148178, 0.15919999778270721, 0.06369999796152115, 0.012600000016391277, -0.026499999687075615, -1.0719000101089478, -1.3976000547409058, -1.8712999820709229, -2.41759991645813, -2.4186999797821045, -2.4577999114990234, -2.5810999870300293, -2.5934998989105225, -3.002500057220459, -3.0768001079559326, 2.197499990463257, 2.1842000484466553, 2.170099973678589, 2.1584999561309814, 2.157900094985962, 2.1577000617980957, 2.151700019836426, 2.151599884033203, 2.0488998889923096, 1.9818999767303467, 1.350600004196167, 1.2103999853134155, 1.0343999862670898, 0.954800009727478, 0.8029000163078308, 0.6669999957084656, 0.25040000677108765, 0.16259999573230743, -0.8305000066757202, -1.0511000156402588, -2.3996999263763428, -2.3996999263763428, -2.4326000213623047, -2.4523000717163086, -2.4644999504089355, -2.467400074005127, -2.4723000526428223, -2.4725000858306885, -2.4730000495910645, -2.4937000274658203, -2.6142001152038574, -3.316499948501587, -3.3443000316619873, -2.8436999320983887, -4.124499797821045, -4.0208001136779785, -3.4535999298095703, -3.0977001190185547, -3.0569000244140625, 2.208199977874756, 2.1944000720977783, 2.180799961090088, 2.1807000637054443, 2.0348000526428223, 1.8385000228881836, 1.6966999769210815, 1.4234999418258667, 1.26419997215271, 1.1970000267028809, 0.9228000044822693, 0.8549000024795532, 0.7723000049591064, 0.6916000247001648, 0.48510000109672546, 0.24639999866485596, -0.09619999676942825, -0.5317000150680542, -0.7888000011444092, -1.1878000497817993, -2.3510000705718994, -2.3603999614715576, -2.36080002784729, -2.3940000534057617, -2.4000000953674316, -2.4138998985290527, -2.4284000396728516, -2.432800054550171, -2.4374001026153564, -2.4885001182556152, -2.495300054550171, -2.616300106048584, -3.110599994659424, -3.347399950027466, -2.9560999870300293, -3.007699966430664, -3.328700065612793, 2.2397000789642334, 2.2342000007629395, 2.226300001144409, 2.2209999561309814, 2.217900037765503, 2.2040998935699463, 2.1868999004364014, 1.9774999618530273, 1.8437999486923218, 1.6619000434875488, 1.069700002670288, 0.7232000231742859, -0.06210000067949295, -0.19429999589920044, -2.3601999282836914, -2.360300064086914, -2.4137001037597656, -2.4251999855041504, -2.4330999851226807, -2.433500051498413, -2.4339001178741455, -2.4542999267578125, -2.488300085067749, -2.498500108718872, -2.5044000148773193, -2.510699987411499, -2.517899990081787, -2.517899990081787, -2.518899917602539, -2.543600082397461, -3.3550000190734863, -4.799799919128418, -3.495699882507324, -3.2172999382019043, -3.2715001106262207, -2.8143999576568604, -3.225600004196167, -2.8756000995635986, -2.9753000736236572, -4.43310022354126, -4.554500102996826, -3.001499891281128, -3.7995998859405518, -3.0601999759674072, -2.7915000915527344, 2.4077000617980957, 2.2021000385284424, 2.125999927520752, 1.8969999551773071, 1.801200032234192, 1.3625999689102173, 1.0592999458312988, 0.9714000225067139, 0.6834999918937683, 0.19900000095367432, -2.153899908065796, -2.1540000438690186, -2.186199903488159, -2.19320011138916, -2.207200050354004, -2.2135000228881836, -2.2216999530792236, -2.2265000343322754, -2.227299928665161, -2.227400064468384, -2.2479000091552734, -2.2818000316619873, -2.2918999195098877, -2.2978999614715576, -2.30430006980896, -2.3113999366760254, -2.311500072479248, -2.3124001026153564, -2.337100028991699, -2.368299961090088, -2.4895999431610107, -3.5280001163482666, -2.564500093460083, -3.2441000938415527, -2.4563000202178955, -4.3368000984191895, -2.8531999588012695, -3.1726999282836914, -2.9791998863220215, -2.852400064468384, -3.1268999576568604, -2.7126998901367188, -3.190200090408325, -3.6500000953674316, -2.884399890899658, -2.421600103378296, -3.3454999923706055, -3.8808000087738037, 2.5388998985290527, 2.5206000804901123, 2.5190999507904053, 2.1751999855041504, 2.1617000102996826, 2.1073999404907227, 2.1017000675201416, 2.083899974822998, 1.3939000368118286, 0.9417999982833862, 0.6134999990463257, 0.454800009727478, 0.27320000529289246, 0.2637999951839447, 0.10599999874830246, 0.0649000033736229, -0.6826000213623047, -2.0427000522613525, -2.0429000854492188, -2.0820999145507812, -2.0961999893188477, -2.1077001094818115, -2.110599994659424, -2.116300106048584, -2.1164000034332275, -2.136899948120117, -2.146699905395508, -2.1482999324798584, -2.1707000732421875, -2.1810998916625977, -2.2286999225616455, -2.1858999729156494, -2.6347999572753906, -2.5218000411987305, -3.4395999908447266, -3.710400104522705, -3.661900043487549, -3.0950000286102295, -2.868000030517578, -2.4897000789642334, -3.043600082397461, -2.70989990234375, 2.603600025177002, 2.58489990234375, 2.583899974822998, 2.5660998821258545, 2.5589001178741455, 2.5548999309539795, 2.0223000049591064, 1.975000023841858, 1.4327000379562378, 0.8865000009536743, 0.7598999738693237, 0.4523000121116638, 0.4165000021457672, 0.396699994802475, 0.35010001063346863, -0.013299999758601189, -0.44440001249313354, -0.6338000297546387, -1.9270000457763672, -1.9279999732971191, -1.9673000574111938, -1.9958000183105469, -2.001499891281128, -2.001499891281128, -2.0218000411987305, -2.0443999767303467, -2.0662999153137207, -2.0708000659942627, -2.072000026702881, -2.0785000324249268, -2.204400062561035, -2.1087000370025635, -2.3297998905181885, -2.5190000534057617, -2.1291000843048096, -3.3406999111175537, -2.0813000202178955, -2.5329999923706055, -3.984100103378296, -4.113100051879883, -2.893899917602539, 2.6222000122070312, 2.6196999549865723, 2.601599931716919, 2.5899999141693115, 2.5058999061584473, 2.1586999893188477, 1.8219000101089478, 1.7230000495910645, 1.2431999444961548, 0.7228000164031982, 0.4912000000476837, 0.35569998621940613, 0.22220000624656677, -0.14790000021457672, -0.34450000524520874, -0.45559999346733093, -1.3566999435424805, -1.7868000268936157, -1.9681999683380127, -1.9687999486923218, -2.001699924468994, -2.007999897003174, -2.022200107574463, -2.0336999893188477, -2.036799907684326, -2.0420000553131104, -2.0425000190734863, -2.09660005569458, -2.107300043106079, -2.107599973678589, -2.8046998977661133, -2.7530999183654785, -2.7499001026153564, -2.401400089263916, -2.7209999561309814, -2.197700023651123, -2.125200033187866, -3.6672000885009766, -2.202699899673462, -2.203200101852417, -2.6296000480651855, -3.583400011062622, -2.9739999771118164], \"logprob\": [30.0, 29.0, 28.0, 27.0, 26.0, 25.0, 24.0, 23.0, 22.0, 21.0, 20.0, 19.0, 18.0, 17.0, 16.0, 15.0, 14.0, 13.0, 12.0, 11.0, 10.0, 9.0, 8.0, 7.0, 6.0, 5.0, 4.0, 3.0, 2.0, 1.0, -2.2446000576019287, -2.9612998962402344, -3.0148000717163086, -3.2646000385284424, -2.8164000511169434, -3.447700023651123, -2.7286999225616455, -3.7026000022888184, -3.1050000190734863, -2.541599988937378, -3.0053000450134277, -3.336199998855591, -2.8220999240875244, -1.9277000427246094, -4.240799903869629, -3.7685999870300293, -3.8635001182556152, -4.878900051116943, -4.384099960327148, -3.4904000759124756, -4.035399913787842, -5.015500068664551, -5.019700050354004, -8.213299751281738, -8.213299751281738, -8.213299751281738, -8.213299751281738, -8.199000358581543, -8.213199615478516, -8.212300300598145, -8.17710018157959, -8.178799629211426, -8.162400245666504, -8.2076997756958, -8.208999633789062, -8.21090030670166, -2.263200044631958, -2.6666998863220215, -2.8282999992370605, -2.952699899673462, -3.021899938583374, -3.35479998588562, -3.35479998588562, -2.6245999336242676, -3.396399974822998, -2.933199882507324, -3.035599946975708, -3.6651999950408936, -2.9235999584198, -4.187399864196777, -2.8903000354766846, -3.7639999389648438, -3.7999000549316406, -3.9964001178741455, -2.449199914932251, -4.92549991607666, -4.156499862670898, -4.054800033569336, -5.3221001625061035, -5.4710001945495605, -5.542500019073486, -4.464000225067139, -7.969900131225586, -7.969900131225586, -7.969799995422363, -7.969900131225586, -7.960299968719482, -7.957099914550781, -7.941199779510498, -7.9532999992370605, -2.812000036239624, -3.1198999881744385, -2.4316999912261963, -2.6570000648498535, -3.225800037384033, -3.325200080871582, -2.4607999324798584, -2.836899995803833, -3.5666000843048096, -3.4614999294281006, -3.1345999240875244, -4.077700138092041, -3.2432000637054443, -3.924499988555908, -2.311000108718872, -4.103799819946289, -3.217099905014038, -3.38100004196167, -3.4593000411987305, -5.122499942779541, -4.230199813842773, -3.1524999141693115, -4.776199817657471, -5.1504998207092285, -5.378900051116943, -5.364299774169922, -6.613699913024902, -7.828199863433838, -7.8292999267578125, -7.829100131988525, -5.918600082397461, -7.7895002365112305, -7.771699905395508, -7.7866997718811035, -2.2083001136779785, -2.5580999851226807, -2.572200059890747, -3.0146000385284424, -3.0151000022888184, -3.0153000354766846, -3.1013998985290527, -3.1013998985290527, -3.2032999992370605, -2.2883999347686768, -1.8655999898910522, -3.1891000270843506, -3.272599935531616, -3.8405001163482666, -4.377799987792969, -4.096799850463867, -4.333199977874756, -4.055500030517578, -5.409900188446045, -5.017899990081787, -7.810299873352051, -7.810299873352051, -7.803899765014648, -7.809599876403809, -7.810299873352051, -7.810200214385986, -7.809800148010254, -7.809599876403809, -7.810100078582764, -7.810299873352051, -7.7164998054504395, -7.605899810791016, -7.723499774932861, -7.806000232696533, -7.807400226593018, -7.807700157165527, -7.80810022354126, -7.808199882507324, -7.808199882507324, -2.7541000843048096, -2.975600004196167, -3.1563000679016113, -3.156399965286255, -1.7520999908447266, -1.844499945640564, -2.5927000045776367, -2.5432000160217285, -2.975600004196167, -3.5127999782562256, -3.3694000244140625, -4.336900234222412, -3.6171000003814697, -4.535799980163574, -3.4282000064849854, -4.332900047302246, -3.832200050354004, -3.4860999584198, -4.126399993896484, -5.893799781799316, -7.696800231933594, -7.770999908447266, -7.771399974822998, -7.710599899291992, -7.771399974822998, -7.771200180053711, -7.771200180053711, -7.770299911499023, -7.1656999588012695, -7.771299839019775, -7.76200008392334, -7.740200042724609, -7.698200225830078, -7.732399940490723, -7.756999969482422, -7.758999824523926, -7.764800071716309, -2.1689999103546143, -2.3285999298095703, -2.5188000202178955, -2.6294000148773193, -2.6895999908447266, -2.1689999103546143, -3.155900001525879, -2.226300001144409, -1.892199993133545, -3.709399938583374, -3.366499900817871, -3.1900999546051025, -4.768099784851074, -4.726600170135498, -7.7708001136779785, -7.770899772644043, -7.770999908447266, -7.770999908447266, -7.770199775695801, -7.770999908447266, -7.770999908447266, -7.770899772644043, -7.770999908447266, -7.7708001136779785, -7.770999908447266, -7.770899772644043, -7.770999908447266, -7.770999908447266, -7.770999908447266, -7.770999908447266, -7.760799884796143, -7.754199981689453, -7.765900135040283, -7.767300128936768, -7.769199848175049, -7.770100116729736, -7.770199775695801, -7.770500183105469, -7.770500183105469, -7.770699977874756, -7.770699977874756, -7.770699977874756, -7.770699977874756, -7.770699977874756, -7.770699977874756, -1.5980000495910645, -2.3118999004364014, -1.2115999460220337, -2.6823999881744385, -2.9270999431610107, -3.134999990463257, -3.7295000553131104, -3.2323999404907227, -2.270900011062622, -3.7720999717712402, -7.564499855041504, -7.564499855041504, -7.031700134277344, -7.564499855041504, -7.564499855041504, -7.559299945831299, -7.564499855041504, -7.564000129699707, -7.5644001960754395, -7.564499855041504, -7.564499855041504, -7.564499855041504, -7.564199924468994, -7.564499855041504, -7.5644001960754395, -7.564499855041504, -7.564499855041504, -7.564499855041504, -7.564499855041504, -7.564300060272217, -6.871099948883057, -7.263999938964844, -7.520199775695801, -7.48390007019043, -7.562399864196777, -7.552999973297119, -7.559100151062012, -7.56220006942749, -7.56279993057251, -7.562900066375732, -7.5630998611450195, -7.5630998611450195, -7.563199996948242, -7.563300132751465, -7.563300132751465, -7.563600063323975, -7.563700199127197, -7.563799858093262, -2.0111000537872314, -2.374300003051758, -2.436500072479248, -2.260999917984009, -2.548799991607666, -2.390199899673462, -3.23580002784729, -2.3155999183654785, -3.786799907684326, -3.3285000324249268, -3.299799919128418, -4.309000015258789, -2.9430999755859375, -4.988399982452393, -4.201000213623047, -3.272700071334839, -5.055699825286865, -7.4532999992370605, -7.453499794006348, -7.453499794006348, -7.453499794006348, -7.453499794006348, -7.453400135040283, -7.453400135040283, -7.453499794006348, -7.453499794006348, -7.399799823760986, -7.401400089263916, -7.453499794006348, -7.453499794006348, -7.401700019836426, -7.452499866485596, -7.429999828338623, -7.442699909210205, -7.445199966430664, -7.446400165557861, -7.448800086975098, -7.44950008392334, -7.451600074768066, -7.452000141143799, -7.452199935913086, -7.452199935913086, -1.777999997138977, -2.3213999271392822, -2.2616000175476074, -2.6291000843048096, -2.723900079727173, -2.6410999298095703, -2.217400074005127, -3.2523999214172363, -2.859499931335449, -3.6275999546051025, -3.6250998973846436, -4.893499851226807, -4.940800189971924, -4.940800189971924, -4.237500190734863, -2.9677000045776367, -4.180500030517578, -4.940800189971924, -7.337600231170654, -7.338600158691406, -7.338600158691406, -7.338600158691406, -7.338600158691406, -7.338600158691406, -7.338399887084961, -7.296500205993652, -7.338600158691406, -7.32390022277832, -7.338600158691406, -7.338600158691406, -7.099400043487549, -7.281700134277344, -7.0721001625061035, -7.098299980163574, -7.30210018157959, -7.254000186920166, -7.334400177001953, -7.3282999992370605, -7.321599960327148, -7.3292999267578125, -7.330100059509277, -2.1273999214172363, -2.1812000274658203, -2.5044000148773193, -2.6702001094818115, -1.7122999429702759, -2.630199909210205, -3.3201000690460205, -3.040800094604492, -3.5081000328063965, -3.190500020980835, -2.725100040435791, -4.981800079345703, -4.322500228881836, -4.454999923706055, -3.2988998889923096, -3.7932000160217285, -6.552700042724609, -6.515100002288818, -7.378799915313721, -7.37939977645874, -7.318299770355225, -7.37939977645874, -7.379499912261963, -7.379499912261963, -7.3796000480651855, -7.3790998458862305, -7.3796000480651855, -7.37939977645874, -7.3796000480651855, -7.374199867248535, -6.810299873352051, -7.045300006866455, -7.185999870300293, -7.296299934387207, -7.253399848937988, -7.370699882507324, -7.377399921417236, -7.350100040435791, -7.375800132751465, -7.376200199127197, -7.372000217437744, -7.370299816131592, -7.373499870300293]}, \"token.table\": {\"Topic\": [2, 5, 6, 8, 10, 10, 2, 3, 9, 3, 2, 8, 1, 1, 9, 2, 4, 8, 2, 4, 1, 10, 5, 6, 9, 6, 2, 4, 8, 10, 2, 3, 1, 3, 7, 2, 2, 3, 4, 8, 2, 6, 3, 9, 2, 4, 2, 3, 9, 6, 3, 8, 5, 4, 10, 1, 2, 9, 2, 3, 3, 6, 3, 5, 6, 3, 4, 5, 7, 2, 6, 4, 4, 1, 5, 1, 10, 4, 8, 9, 4, 8, 9, 1, 3, 5, 9, 2, 10, 1, 3, 6, 7, 7, 8, 4, 1, 3, 1, 1, 1, 5, 9, 1, 3, 5, 1, 3, 4, 5, 1, 3, 7, 9, 6, 8, 2, 3, 4, 8, 9, 10, 4, 2, 3, 4, 8, 10, 3, 5, 10, 1, 3, 7, 9, 5, 1, 2, 5, 2, 4, 9, 7, 4, 1, 3, 5, 7, 9, 10, 2, 4, 6, 2, 6, 2, 10, 2, 1, 3, 5, 8, 10, 3, 7, 10, 6, 8, 1, 3, 5, 7, 8, 10, 4, 8, 1, 5, 2, 3, 5, 6, 9, 1, 5, 9, 5, 2, 8, 9, 10], \"Freq\": [0.31657904386520386, 0.15828952193260193, 0.20351509749889374, 0.13567672669887543, 0.13567672669887543, 0.9564716219902039, 0.29173174500465393, 0.6807073950767517, 0.9189984798431396, 0.9191974401473999, 0.3011097311973572, 0.6524044275283813, 0.9579052925109863, 0.833520233631134, 0.14496004581451416, 0.9095949530601501, 0.9563581943511963, 0.9619062542915344, 0.9562144875526428, 0.9620627760887146, 0.8927958011627197, 0.08502817153930664, 0.9390581846237183, 0.9167315363883972, 0.896353006362915, 0.9350869059562683, 0.2646467387676239, 0.2117173969745636, 0.1058586984872818, 0.3705054223537445, 0.08801645785570145, 0.7921481132507324, 0.6468442678451538, 0.21561476588249207, 0.09582878649234772, 0.9653171896934509, 0.08030842989683151, 0.32123371958732605, 0.24092528223991394, 0.32123371958732605, 0.9053319692611694, 0.952423632144928, 0.8525582551956177, 0.09472869336605072, 0.9728076457977295, 0.949734091758728, 0.19164611399173737, 0.6707614064216614, 0.09582305699586868, 0.9444347023963928, 0.9626782536506653, 0.9830729365348816, 0.9683001637458801, 0.12268770486116409, 0.8588139414787292, 0.7100446224212646, 0.17751115560531616, 0.08875557780265808, 0.8280113935470581, 0.09200126677751541, 0.881877601146698, 0.08398834615945816, 0.8492708206176758, 0.04995710775256157, 0.09991421550512314, 0.22007809579372406, 0.04401561990380287, 0.1320468634366989, 0.5722030401229858, 0.3887089490890503, 0.5830634236335754, 0.9325363636016846, 0.9497463703155518, 0.7308782935142517, 0.24362610280513763, 0.9219971299171448, 0.9337965846061707, 0.36770570278167725, 0.6250997185707092, 0.9751194715499878, 0.8625813126564026, 0.08625812828540802, 0.8893870711326599, 0.06605815142393112, 0.3302907645702362, 0.2642326056957245, 0.29726168513298035, 0.5408498048782349, 0.4635855257511139, 0.3770311176776886, 0.6032497882843018, 0.7558533549308777, 0.24187307059764862, 0.3244974613189697, 0.6084327697753906, 0.9324654936790466, 0.8346562385559082, 0.0758778378367424, 0.9852154850959778, 0.9522361159324646, 0.06268347799777985, 0.3761008679866791, 0.5328095555305481, 0.6188603639602661, 0.10921064764261246, 0.21842129528522491, 0.5009150505065918, 0.02385309897363186, 0.04770619794726372, 0.42935577034950256, 0.24606959521770477, 0.7030559778213501, 0.7834069728851318, 0.16492779552936554, 0.3051481246948242, 0.6865832805633545, 0.46932604908943176, 0.03352329134941101, 0.3017096221446991, 0.10056987404823303, 0.03352329134941101, 0.06704658269882202, 0.9563852548599243, 0.24776336550712585, 0.11261971294879913, 0.41669294238090515, 0.10135774314403534, 0.11261971294879913, 0.19927886128425598, 0.7971154451370239, 0.9393091797828674, 0.204339861869812, 0.204339861869812, 0.51084965467453, 0.9765868782997131, 0.9390614628791809, 0.26350075006484985, 0.13175037503242493, 0.5599390864372253, 0.8398664593696594, 0.132610484957695, 0.8970378637313843, 0.967171311378479, 0.9563639163970947, 0.43338659405708313, 0.20802555978298187, 0.06067412346601486, 0.1733546406030655, 0.06934185326099396, 0.05200638994574547, 0.6554876565933228, 0.27311986684799194, 0.923529326915741, 0.9290571212768555, 0.9648067355155945, 0.7318711280822754, 0.2613825500011444, 0.9095947742462158, 0.19755364954471588, 0.14367538690567017, 0.6465392112731934, 0.9655777215957642, 0.968977153301239, 0.1085490807890892, 0.2713727056980133, 0.5970199704170227, 0.9311157464981079, 0.0358121432363987, 0.07628875225782394, 0.012714792042970657, 0.05085916817188263, 0.7374579310417175, 0.07628875225782394, 0.03814437612891197, 0.7755107283592224, 0.1938776820898056, 0.601816713809967, 0.35105976462364197, 0.05681893974542618, 0.15151716768741608, 0.0946982279419899, 0.643947958946228, 0.03787929192185402, 0.25244566798210144, 0.16829711198806763, 0.5048913359642029, 0.953454315662384, 0.09394524246454239, 0.6576166749000549, 0.09394524246454239, 0.09394524246454239], \"Term\": [\"adaptation\", \"adaptation\", \"adaptation\", \"adaptation\", \"adaptation\", \"animal\", \"architecture\", \"architecture\", \"arctic\", \"area\", \"art\", \"art\", \"atmosphere\", \"atmospheric_phenomenon\", \"atmospheric_phenomenon\", \"beak\", \"beauty\", \"biology\", \"bird\", \"black\", \"blue\", \"blue\", \"branch\", \"canidae\", \"cap\", \"carnivore\", \"child\", \"child\", \"child\", \"child\", \"city\", \"city\", \"cloud\", \"cloud\", \"cloud\", \"crowd\", \"darkness\", \"darkness\", \"darkness\", \"darkness\", \"design\", \"dog\", \"ecoregion\", \"ecoregion\", \"event\", \"face\", \"family\", \"family\", \"family\", \"felidae\", \"field\", \"fish\", \"forest\", \"fun\", \"fun\", \"geological_phenomenon\", \"geological_phenomenon\", \"geological_phenomenon\", \"geology\", \"geology\", \"grass\", \"grass\", \"grassland\", \"grassland\", \"grassland\", \"green\", \"green\", \"green\", \"green\", \"group\", \"group\", \"hair\", \"head\", \"hill\", \"hill\", \"horizon\", \"horse\", \"human\", \"human\", \"ice\", \"lady\", \"lady\", \"landform\", \"landscape\", \"landscape\", \"landscape\", \"landscape\", \"leisure\", \"leisure\", \"light\", \"light\", \"mammal\", \"mammal\", \"marine\", \"marine\", \"monochrome\", \"morning\", \"morning\", \"mountain\", \"mountainous_landforms\", \"natural_environment\", \"natural_environment\", \"natural_environment\", \"natural_landscape\", \"natural_landscape\", \"natural_landscape\", \"nature\", \"nature\", \"nature\", \"nature\", \"night\", \"night\", \"ocean\", \"ocean\", \"organism\", \"organism\", \"people\", \"people\", \"people\", \"people\", \"people\", \"people\", \"photograph\", \"photography\", \"photography\", \"photography\", \"photography\", \"photography\", \"plant\", \"plant\", \"recreation\", \"reflection\", \"reflection\", \"reflection\", \"reptile\", \"reserve\", \"rock\", \"rock\", \"rock\", \"room\", \"room\", \"sand\", \"sea\", \"skin\", \"sky\", \"sky\", \"sky\", \"sky\", \"sky\", \"sky\", \"smile\", \"smile\", \"snout\", \"temple\", \"terrestrial_animal\", \"tourism\", \"tourism\", \"tradition\", \"tree\", \"tree\", \"tree\", \"underwater\", \"vacation\", \"vehicle\", \"vehicle\", \"vehicle\", \"vertebrate\", \"vertebrate\", \"water\", \"water\", \"water\", \"water\", \"water\", \"water\", \"white\", \"white\", \"wilderness\", \"wilderness\", \"wildlife\", \"wildlife\", \"wildlife\", \"wildlife\", \"wildlife\", \"winter\", \"winter\", \"winter\", \"woody\", \"yellow\", \"yellow\", \"yellow\", \"yellow\"]}, \"R\": 30, \"lambda.step\": 0.01, \"plot.opts\": {\"xlab\": \"PC1\", \"ylab\": \"PC2\"}, \"topic.order\": [7, 9, 6, 2, 5, 4, 8, 1, 10, 3]};\n",
       "\n",
       "function LDAvis_load_lib(url, callback){\n",
       "  var s = document.createElement('script');\n",
       "  s.src = url;\n",
       "  s.async = true;\n",
       "  s.onreadystatechange = s.onload = callback;\n",
       "  s.onerror = function(){console.warn(\"failed to load library \" + url);};\n",
       "  document.getElementsByTagName(\"head\")[0].appendChild(s);\n",
       "}\n",
       "\n",
       "if(typeof(LDAvis) !== \"undefined\"){\n",
       "   // already loaded: just create the visualization\n",
       "   !function(LDAvis){\n",
       "       new LDAvis(\"#\" + \"ldavis_el1962025572848638166140106013\", ldavis_el1962025572848638166140106013_data);\n",
       "   }(LDAvis);\n",
       "}else if(typeof define === \"function\" && define.amd){\n",
       "   // require.js is available: use it to load d3/LDAvis\n",
       "   require.config({paths: {d3: \"https://cdnjs.cloudflare.com/ajax/libs/d3/3.5.5/d3.min\"}});\n",
       "   require([\"d3\"], function(d3){\n",
       "      window.d3 = d3;\n",
       "      LDAvis_load_lib(\"https://cdn.rawgit.com/bmabey/pyLDAvis/files/ldavis.v1.0.0.js\", function(){\n",
       "        new LDAvis(\"#\" + \"ldavis_el1962025572848638166140106013\", ldavis_el1962025572848638166140106013_data);\n",
       "      });\n",
       "    });\n",
       "}else{\n",
       "    // require.js not available: dynamically load d3 & LDAvis\n",
       "    LDAvis_load_lib(\"https://cdnjs.cloudflare.com/ajax/libs/d3/3.5.5/d3.min.js\", function(){\n",
       "         LDAvis_load_lib(\"https://cdn.rawgit.com/bmabey/pyLDAvis/files/ldavis.v1.0.0.js\", function(){\n",
       "                 new LDAvis(\"#\" + \"ldavis_el1962025572848638166140106013\", ldavis_el1962025572848638166140106013_data);\n",
       "            })\n",
       "         });\n",
       "}\n",
       "</script>"
      ],
      "text/plain": [
       "<IPython.core.display.HTML object>"
      ]
     },
     "execution_count": 21,
     "metadata": {},
     "output_type": "execute_result"
    }
   ],
   "source": [
    "vis = pyLDAvis.gensim.prepare(topic_model=lda_train, corpus=train_corpus, dictionary=train_id2word)\n",
    "pyLDAvis.enable_notebook()\n",
    "pyLDAvis.display(vis)"
   ]
  },
  {
   "cell_type": "markdown",
   "metadata": {},
   "source": [
    "Each bubble on the left-hand side plot represents a topic. The larger the bubble, the more prevalent is that topic.\n",
    "A good topic model will have fairly big, non-overlapping bubbles scattered throughout the chart instead of being clustered in one quadrant.\n",
    "A model with too many topics, will typically have many overlaps, small sized bubbles clustered in one region of the chart.\n",
    "\n",
    "Note: The Topic IDs in the InterTopic Distance Map do not correspond to the LDA topic IDs."
   ]
  },
  {
   "cell_type": "code",
   "execution_count": 22,
   "metadata": {},
   "outputs": [],
   "source": [
    "df_lda = pd.DataFrame(lda_train.show_topics(), columns=['Topic','Word Weights'])"
   ]
  },
  {
   "cell_type": "code",
   "execution_count": 23,
   "metadata": {},
   "outputs": [],
   "source": [
    "df_lda.to_csv('Word_Weights.csv')"
   ]
  },
  {
   "cell_type": "code",
   "execution_count": 25,
   "metadata": {},
   "outputs": [],
   "source": [
    "train_vecs = []\n",
    "for i in range(len(df.label_tokens)):\n",
    "    top_topics = lda_train.get_document_topics(train_corpus[i], minimum_probability=0.0)\n",
    "    topic_vec = [top_topics[i][1] for i in range(10)]\n",
    "    train_vecs.append(topic_vec)"
   ]
  },
  {
   "cell_type": "code",
   "execution_count": 26,
   "metadata": {},
   "outputs": [
    {
     "name": "stdout",
     "output_type": "stream",
     "text": [
      "[0.020003553, 0.21998511, 0.020005194, 0.020000074, 0.020001208, 0.020005703, 0.020005012, 0.37349468, 0.020005118, 0.2664944]\n",
      "408\n"
     ]
    }
   ],
   "source": [
    "print(train_vecs[10])\n",
    "print(len(train_vecs))"
   ]
  },
  {
   "cell_type": "code",
   "execution_count": 27,
   "metadata": {},
   "outputs": [
    {
     "data": {
      "text/plain": [
       "topic0    0.012500\n",
       "topic1    0.012500\n",
       "topic2    0.012501\n",
       "topic3    0.227575\n",
       "topic4    0.401413\n",
       "topic5    0.283503\n",
       "topic6    0.012505\n",
       "topic7    0.012502\n",
       "topic8    0.012500\n",
       "topic9    0.012501\n",
       "Name: 31, dtype: float64"
      ]
     },
     "execution_count": 27,
     "metadata": {},
     "output_type": "execute_result"
    }
   ],
   "source": [
    "train_vec_df=pd.DataFrame(train_vecs)\n",
    "train_vec_df.columns=['topic0','topic1','topic2','topic3','topic4','topic5','topic6','topic7','topic8','topic9']\n",
    "train_vec_df.iloc[31]"
   ]
  },
  {
   "cell_type": "code",
   "execution_count": 28,
   "metadata": {},
   "outputs": [
    {
     "data": {
      "text/html": [
       "<div>\n",
       "<style scoped>\n",
       "    .dataframe tbody tr th:only-of-type {\n",
       "        vertical-align: middle;\n",
       "    }\n",
       "\n",
       "    .dataframe tbody tr th {\n",
       "        vertical-align: top;\n",
       "    }\n",
       "\n",
       "    .dataframe thead th {\n",
       "        text-align: right;\n",
       "    }\n",
       "</style>\n",
       "<table border=\"1\" class=\"dataframe\">\n",
       "  <thead>\n",
       "    <tr style=\"text-align: right;\">\n",
       "      <th></th>\n",
       "      <th>Index</th>\n",
       "      <th>display_url</th>\n",
       "      <th>comments</th>\n",
       "      <th>is_video</th>\n",
       "      <th>likes</th>\n",
       "      <th>caption</th>\n",
       "      <th>labels</th>\n",
       "      <th>labels_strings</th>\n",
       "      <th>likes_normalized</th>\n",
       "      <th>comments_normalized</th>\n",
       "      <th>...</th>\n",
       "      <th>topic0</th>\n",
       "      <th>topic1</th>\n",
       "      <th>topic2</th>\n",
       "      <th>topic3</th>\n",
       "      <th>topic4</th>\n",
       "      <th>topic5</th>\n",
       "      <th>topic6</th>\n",
       "      <th>topic7</th>\n",
       "      <th>topic8</th>\n",
       "      <th>topic9</th>\n",
       "    </tr>\n",
       "  </thead>\n",
       "  <tbody>\n",
       "    <tr>\n",
       "      <th>0</th>\n",
       "      <td>0</td>\n",
       "      <td>https://instagram.fftw1-1.fna.fbcdn.net/v/t51....</td>\n",
       "      <td>145</td>\n",
       "      <td>False</td>\n",
       "      <td>31505</td>\n",
       "      <td>Photo by Amber Bracken @photobracken | Jocelyn...</td>\n",
       "      <td>['hair', 'beauty', 'hairstyle', 'skin', 'long'...</td>\n",
       "      <td>hair beauty hairstyle skin long hair lip hand ...</td>\n",
       "      <td>0.019494</td>\n",
       "      <td>0.011139</td>\n",
       "      <td>...</td>\n",
       "      <td>0.020000</td>\n",
       "      <td>0.820000</td>\n",
       "      <td>0.020000</td>\n",
       "      <td>0.02000</td>\n",
       "      <td>0.020000</td>\n",
       "      <td>0.020000</td>\n",
       "      <td>0.020000</td>\n",
       "      <td>0.020000</td>\n",
       "      <td>0.020000</td>\n",
       "      <td>0.020000</td>\n",
       "    </tr>\n",
       "    <tr>\n",
       "      <th>1</th>\n",
       "      <td>2</td>\n",
       "      <td>https://instagram.fftw1-1.fna.fbcdn.net/v/t51....</td>\n",
       "      <td>1018</td>\n",
       "      <td>False</td>\n",
       "      <td>330690</td>\n",
       "      <td>Photo by Charlie Hamilton James @chamiltonjame...</td>\n",
       "      <td>['sky', 'wildlife', 'natural', 'environment', ...</td>\n",
       "      <td>sky wildlife natural environment ecoregion mar...</td>\n",
       "      <td>0.204620</td>\n",
       "      <td>0.078205</td>\n",
       "      <td>...</td>\n",
       "      <td>0.014286</td>\n",
       "      <td>0.014286</td>\n",
       "      <td>0.014286</td>\n",
       "      <td>0.01429</td>\n",
       "      <td>0.014289</td>\n",
       "      <td>0.702664</td>\n",
       "      <td>0.014289</td>\n",
       "      <td>0.014287</td>\n",
       "      <td>0.014286</td>\n",
       "      <td>0.183037</td>\n",
       "    </tr>\n",
       "  </tbody>\n",
       "</table>\n",
       "<p>2 rows × 24 columns</p>\n",
       "</div>"
      ],
      "text/plain": [
       "   Index                                        display_url  comments  \\\n",
       "0      0  https://instagram.fftw1-1.fna.fbcdn.net/v/t51....       145   \n",
       "1      2  https://instagram.fftw1-1.fna.fbcdn.net/v/t51....      1018   \n",
       "\n",
       "   is_video   likes                                            caption  \\\n",
       "0     False   31505  Photo by Amber Bracken @photobracken | Jocelyn...   \n",
       "1     False  330690  Photo by Charlie Hamilton James @chamiltonjame...   \n",
       "\n",
       "                                              labels  \\\n",
       "0  ['hair', 'beauty', 'hairstyle', 'skin', 'long'...   \n",
       "1  ['sky', 'wildlife', 'natural', 'environment', ...   \n",
       "\n",
       "                                      labels_strings  likes_normalized  \\\n",
       "0  hair beauty hairstyle skin long hair lip hand ...          0.019494   \n",
       "1  sky wildlife natural environment ecoregion mar...          0.204620   \n",
       "\n",
       "   comments_normalized  ...    topic0    topic1    topic2   topic3    topic4  \\\n",
       "0             0.011139  ...  0.020000  0.820000  0.020000  0.02000  0.020000   \n",
       "1             0.078205  ...  0.014286  0.014286  0.014286  0.01429  0.014289   \n",
       "\n",
       "     topic5    topic6    topic7    topic8    topic9  \n",
       "0  0.020000  0.020000  0.020000  0.020000  0.020000  \n",
       "1  0.702664  0.014289  0.014287  0.014286  0.183037  \n",
       "\n",
       "[2 rows x 24 columns]"
      ]
     },
     "execution_count": 28,
     "metadata": {},
     "output_type": "execute_result"
    }
   ],
   "source": [
    "df_nat_final=pd.concat([df.reset_index(drop=True), train_vec_df.reset_index(drop=True)], axis=1)\n",
    "df_nat_final[:2]"
   ]
  },
  {
   "cell_type": "code",
   "execution_count": 29,
   "metadata": {},
   "outputs": [],
   "source": [
    "df_nat_final.to_csv(\"Topic_Weights.csv\")"
   ]
  },
  {
   "cell_type": "code",
   "execution_count": 30,
   "metadata": {},
   "outputs": [
    {
     "name": "stdout",
     "output_type": "stream",
     "text": [
      "0.08030411923207784 0.11903844877968242 0.1809772493842345\n"
     ]
    }
   ],
   "source": [
    "q1=np.percentile(df_nat_final.engagement_score, 25) \n",
    "q2=np.percentile(df_nat_final.engagement_score, 50)  \n",
    "q3=np.percentile(df_nat_final.engagement_score, 75)\n",
    "\n",
    "print (q1,q2,q3)"
   ]
  },
  {
   "cell_type": "code",
   "execution_count": 31,
   "metadata": {},
   "outputs": [
    {
     "data": {
      "text/html": [
       "<div>\n",
       "<style scoped>\n",
       "    .dataframe tbody tr th:only-of-type {\n",
       "        vertical-align: middle;\n",
       "    }\n",
       "\n",
       "    .dataframe tbody tr th {\n",
       "        vertical-align: top;\n",
       "    }\n",
       "\n",
       "    .dataframe thead th {\n",
       "        text-align: right;\n",
       "    }\n",
       "</style>\n",
       "<table border=\"1\" class=\"dataframe\">\n",
       "  <thead>\n",
       "    <tr style=\"text-align: right;\">\n",
       "      <th></th>\n",
       "      <th>Index</th>\n",
       "      <th>display_url</th>\n",
       "      <th>comments</th>\n",
       "      <th>is_video</th>\n",
       "      <th>likes</th>\n",
       "      <th>caption</th>\n",
       "      <th>labels</th>\n",
       "      <th>labels_strings</th>\n",
       "      <th>likes_normalized</th>\n",
       "      <th>comments_normalized</th>\n",
       "      <th>...</th>\n",
       "      <th>topic0</th>\n",
       "      <th>topic1</th>\n",
       "      <th>topic2</th>\n",
       "      <th>topic3</th>\n",
       "      <th>topic4</th>\n",
       "      <th>topic5</th>\n",
       "      <th>topic6</th>\n",
       "      <th>topic7</th>\n",
       "      <th>topic8</th>\n",
       "      <th>topic9</th>\n",
       "    </tr>\n",
       "  </thead>\n",
       "  <tbody>\n",
       "    <tr>\n",
       "      <th>6</th>\n",
       "      <td>7</td>\n",
       "      <td>https://instagram.fftw1-1.fna.fbcdn.net/v/t51....</td>\n",
       "      <td>1116</td>\n",
       "      <td>False</td>\n",
       "      <td>526240</td>\n",
       "      <td>Photos by Pete McBride @pedromcbride | Source ...</td>\n",
       "      <td>['geological', 'phenomenon', 'geology', 'rock']</td>\n",
       "      <td>geological phenomenon geology rock</td>\n",
       "      <td>0.325620</td>\n",
       "      <td>0.085734</td>\n",
       "      <td>...</td>\n",
       "      <td>0.025000</td>\n",
       "      <td>0.025000</td>\n",
       "      <td>0.025000</td>\n",
       "      <td>0.025000</td>\n",
       "      <td>0.025013</td>\n",
       "      <td>0.025001</td>\n",
       "      <td>0.025021</td>\n",
       "      <td>0.025000</td>\n",
       "      <td>0.774962</td>\n",
       "      <td>0.025002</td>\n",
       "    </tr>\n",
       "    <tr>\n",
       "      <th>13</th>\n",
       "      <td>15</td>\n",
       "      <td>https://instagram.fftw1-1.fna.fbcdn.net/v/t51....</td>\n",
       "      <td>3023</td>\n",
       "      <td>False</td>\n",
       "      <td>771071</td>\n",
       "      <td>Photo by Keith Ladzinski @ladzinski | In searc...</td>\n",
       "      <td>['sky', 'wildlife', 'organism', 'cloud', 'phot...</td>\n",
       "      <td>sky wildlife organism cloud photography wood l...</td>\n",
       "      <td>0.477113</td>\n",
       "      <td>0.232235</td>\n",
       "      <td>...</td>\n",
       "      <td>0.156915</td>\n",
       "      <td>0.011114</td>\n",
       "      <td>0.011113</td>\n",
       "      <td>0.011115</td>\n",
       "      <td>0.011112</td>\n",
       "      <td>0.754180</td>\n",
       "      <td>0.011113</td>\n",
       "      <td>0.011112</td>\n",
       "      <td>0.011113</td>\n",
       "      <td>0.011112</td>\n",
       "    </tr>\n",
       "    <tr>\n",
       "      <th>19</th>\n",
       "      <td>22</td>\n",
       "      <td>https://instagram.fftw1-1.fna.fbcdn.net/v/t51....</td>\n",
       "      <td>1368</td>\n",
       "      <td>False</td>\n",
       "      <td>587036</td>\n",
       "      <td>Photo by @ronan_donovan | A mother wolf return...</td>\n",
       "      <td>['canidae', 'wildlife', 'irish', 'wolfhound', ...</td>\n",
       "      <td>canidae wildlife irish wolfhound sheep carnivo...</td>\n",
       "      <td>0.363238</td>\n",
       "      <td>0.105093</td>\n",
       "      <td>...</td>\n",
       "      <td>0.020000</td>\n",
       "      <td>0.020000</td>\n",
       "      <td>0.020000</td>\n",
       "      <td>0.620000</td>\n",
       "      <td>0.020000</td>\n",
       "      <td>0.020001</td>\n",
       "      <td>0.219998</td>\n",
       "      <td>0.020000</td>\n",
       "      <td>0.020000</td>\n",
       "      <td>0.020000</td>\n",
       "    </tr>\n",
       "  </tbody>\n",
       "</table>\n",
       "<p>3 rows × 24 columns</p>\n",
       "</div>"
      ],
      "text/plain": [
       "    Index                                        display_url  comments  \\\n",
       "6       7  https://instagram.fftw1-1.fna.fbcdn.net/v/t51....      1116   \n",
       "13     15  https://instagram.fftw1-1.fna.fbcdn.net/v/t51....      3023   \n",
       "19     22  https://instagram.fftw1-1.fna.fbcdn.net/v/t51....      1368   \n",
       "\n",
       "    is_video   likes                                            caption  \\\n",
       "6      False  526240  Photos by Pete McBride @pedromcbride | Source ...   \n",
       "13     False  771071  Photo by Keith Ladzinski @ladzinski | In searc...   \n",
       "19     False  587036  Photo by @ronan_donovan | A mother wolf return...   \n",
       "\n",
       "                                               labels  \\\n",
       "6     ['geological', 'phenomenon', 'geology', 'rock']   \n",
       "13  ['sky', 'wildlife', 'organism', 'cloud', 'phot...   \n",
       "19  ['canidae', 'wildlife', 'irish', 'wolfhound', ...   \n",
       "\n",
       "                                       labels_strings  likes_normalized  \\\n",
       "6                  geological phenomenon geology rock          0.325620   \n",
       "13  sky wildlife organism cloud photography wood l...          0.477113   \n",
       "19  canidae wildlife irish wolfhound sheep carnivo...          0.363238   \n",
       "\n",
       "    comments_normalized  ...    topic0    topic1    topic2    topic3  \\\n",
       "6              0.085734  ...  0.025000  0.025000  0.025000  0.025000   \n",
       "13             0.232235  ...  0.156915  0.011114  0.011113  0.011115   \n",
       "19             0.105093  ...  0.020000  0.020000  0.020000  0.620000   \n",
       "\n",
       "      topic4    topic5    topic6    topic7    topic8    topic9  \n",
       "6   0.025013  0.025001  0.025021  0.025000  0.774962  0.025002  \n",
       "13  0.011112  0.754180  0.011113  0.011112  0.011113  0.011112  \n",
       "19  0.020000  0.020001  0.219998  0.020000  0.020000  0.020000  \n",
       "\n",
       "[3 rows x 24 columns]"
      ]
     },
     "execution_count": 31,
     "metadata": {},
     "output_type": "execute_result"
    }
   ],
   "source": [
    "top_quartile=df_nat_final[df_nat_final['engagement_score']>q3]\n",
    "top_quartile[:3]"
   ]
  },
  {
   "cell_type": "code",
   "execution_count": 37,
   "metadata": {},
   "outputs": [
    {
     "data": {
      "text/plain": [
       "topic0    0.077535\n",
       "topic1    0.069047\n",
       "topic2    0.047511\n",
       "topic3    0.199879\n",
       "topic4    0.103715\n",
       "topic5    0.083818\n",
       "topic6    0.132692\n",
       "topic8    0.105989\n",
       "topic9    0.098898\n",
       "dtype: float64"
      ]
     },
     "execution_count": 37,
     "metadata": {},
     "output_type": "execute_result"
    }
   ],
   "source": [
    "average_topic_weights_top = top_quartile[[\"topic0\",'topic1',\"topic2\",'topic3',\"topic4\",'topic5',\"topic6\",'topic8','topic9']].mean(axis=0)\n",
    "average_topic_weights_top"
   ]
  },
  {
   "cell_type": "code",
   "execution_count": 34,
   "metadata": {},
   "outputs": [
    {
     "data": {
      "text/html": [
       "<div>\n",
       "<style scoped>\n",
       "    .dataframe tbody tr th:only-of-type {\n",
       "        vertical-align: middle;\n",
       "    }\n",
       "\n",
       "    .dataframe tbody tr th {\n",
       "        vertical-align: top;\n",
       "    }\n",
       "\n",
       "    .dataframe thead th {\n",
       "        text-align: right;\n",
       "    }\n",
       "</style>\n",
       "<table border=\"1\" class=\"dataframe\">\n",
       "  <thead>\n",
       "    <tr style=\"text-align: right;\">\n",
       "      <th></th>\n",
       "      <th>Index</th>\n",
       "      <th>display_url</th>\n",
       "      <th>comments</th>\n",
       "      <th>is_video</th>\n",
       "      <th>likes</th>\n",
       "      <th>caption</th>\n",
       "      <th>labels</th>\n",
       "      <th>labels_strings</th>\n",
       "      <th>likes_normalized</th>\n",
       "      <th>comments_normalized</th>\n",
       "      <th>...</th>\n",
       "      <th>topic0</th>\n",
       "      <th>topic1</th>\n",
       "      <th>topic2</th>\n",
       "      <th>topic3</th>\n",
       "      <th>topic4</th>\n",
       "      <th>topic5</th>\n",
       "      <th>topic6</th>\n",
       "      <th>topic7</th>\n",
       "      <th>topic8</th>\n",
       "      <th>topic9</th>\n",
       "    </tr>\n",
       "  </thead>\n",
       "  <tbody>\n",
       "    <tr>\n",
       "      <th>0</th>\n",
       "      <td>0</td>\n",
       "      <td>https://instagram.fftw1-1.fna.fbcdn.net/v/t51....</td>\n",
       "      <td>145</td>\n",
       "      <td>False</td>\n",
       "      <td>31505</td>\n",
       "      <td>Photo by Amber Bracken @photobracken | Jocelyn...</td>\n",
       "      <td>['hair', 'beauty', 'hairstyle', 'skin', 'long'...</td>\n",
       "      <td>hair beauty hairstyle skin long hair lip hand ...</td>\n",
       "      <td>0.019494</td>\n",
       "      <td>0.011139</td>\n",
       "      <td>...</td>\n",
       "      <td>0.020000</td>\n",
       "      <td>0.820000</td>\n",
       "      <td>0.020000</td>\n",
       "      <td>0.020000</td>\n",
       "      <td>0.020000</td>\n",
       "      <td>0.020000</td>\n",
       "      <td>0.020000</td>\n",
       "      <td>0.020000</td>\n",
       "      <td>0.020000</td>\n",
       "      <td>0.020000</td>\n",
       "    </tr>\n",
       "    <tr>\n",
       "      <th>4</th>\n",
       "      <td>5</td>\n",
       "      <td>https://instagram.fftw1-1.fna.fbcdn.net/v/t51....</td>\n",
       "      <td>540</td>\n",
       "      <td>False</td>\n",
       "      <td>161964</td>\n",
       "      <td>Photo by @amivitale | Jenabu, 13, waits for he...</td>\n",
       "      <td>['face', 'black', 'people', 'skin', 'child', '...</td>\n",
       "      <td>face black people skin child head lip eyebrow ...</td>\n",
       "      <td>0.100218</td>\n",
       "      <td>0.041484</td>\n",
       "      <td>...</td>\n",
       "      <td>0.012501</td>\n",
       "      <td>0.887496</td>\n",
       "      <td>0.012502</td>\n",
       "      <td>0.012500</td>\n",
       "      <td>0.012500</td>\n",
       "      <td>0.012500</td>\n",
       "      <td>0.012500</td>\n",
       "      <td>0.012500</td>\n",
       "      <td>0.012502</td>\n",
       "      <td>0.012500</td>\n",
       "    </tr>\n",
       "    <tr>\n",
       "      <th>7</th>\n",
       "      <td>8</td>\n",
       "      <td>https://instagram.fftw1-1.fna.fbcdn.net/v/t51....</td>\n",
       "      <td>423</td>\n",
       "      <td>False</td>\n",
       "      <td>215519</td>\n",
       "      <td>Photo by William Albert Allard @williamalberta...</td>\n",
       "      <td>['action', 'adventure', 'game', 'horse', 'cowb...</td>\n",
       "      <td>action adventure game horse cowboy screenshot ...</td>\n",
       "      <td>0.133356</td>\n",
       "      <td>0.032496</td>\n",
       "      <td>...</td>\n",
       "      <td>0.033333</td>\n",
       "      <td>0.033333</td>\n",
       "      <td>0.700000</td>\n",
       "      <td>0.033333</td>\n",
       "      <td>0.033333</td>\n",
       "      <td>0.033333</td>\n",
       "      <td>0.033333</td>\n",
       "      <td>0.033333</td>\n",
       "      <td>0.033333</td>\n",
       "      <td>0.033333</td>\n",
       "    </tr>\n",
       "  </tbody>\n",
       "</table>\n",
       "<p>3 rows × 24 columns</p>\n",
       "</div>"
      ],
      "text/plain": [
       "   Index                                        display_url  comments  \\\n",
       "0      0  https://instagram.fftw1-1.fna.fbcdn.net/v/t51....       145   \n",
       "4      5  https://instagram.fftw1-1.fna.fbcdn.net/v/t51....       540   \n",
       "7      8  https://instagram.fftw1-1.fna.fbcdn.net/v/t51....       423   \n",
       "\n",
       "   is_video   likes                                            caption  \\\n",
       "0     False   31505  Photo by Amber Bracken @photobracken | Jocelyn...   \n",
       "4     False  161964  Photo by @amivitale | Jenabu, 13, waits for he...   \n",
       "7     False  215519  Photo by William Albert Allard @williamalberta...   \n",
       "\n",
       "                                              labels  \\\n",
       "0  ['hair', 'beauty', 'hairstyle', 'skin', 'long'...   \n",
       "4  ['face', 'black', 'people', 'skin', 'child', '...   \n",
       "7  ['action', 'adventure', 'game', 'horse', 'cowb...   \n",
       "\n",
       "                                      labels_strings  likes_normalized  \\\n",
       "0  hair beauty hairstyle skin long hair lip hand ...          0.019494   \n",
       "4  face black people skin child head lip eyebrow ...          0.100218   \n",
       "7  action adventure game horse cowboy screenshot ...          0.133356   \n",
       "\n",
       "   comments_normalized  ...    topic0    topic1    topic2    topic3    topic4  \\\n",
       "0             0.011139  ...  0.020000  0.820000  0.020000  0.020000  0.020000   \n",
       "4             0.041484  ...  0.012501  0.887496  0.012502  0.012500  0.012500   \n",
       "7             0.032496  ...  0.033333  0.033333  0.700000  0.033333  0.033333   \n",
       "\n",
       "     topic5    topic6    topic7    topic8    topic9  \n",
       "0  0.020000  0.020000  0.020000  0.020000  0.020000  \n",
       "4  0.012500  0.012500  0.012500  0.012502  0.012500  \n",
       "7  0.033333  0.033333  0.033333  0.033333  0.033333  \n",
       "\n",
       "[3 rows x 24 columns]"
      ]
     },
     "execution_count": 34,
     "metadata": {},
     "output_type": "execute_result"
    }
   ],
   "source": [
    "bottom_quartile=df_nat_final[df_nat_final['engagement_score']<q1]\n",
    "bottom_quartile[:3]"
   ]
  },
  {
   "cell_type": "code",
   "execution_count": 36,
   "metadata": {},
   "outputs": [
    {
     "data": {
      "text/plain": [
       "topic0    0.088776\n",
       "topic1    0.106151\n",
       "topic2    0.136207\n",
       "topic3    0.030750\n",
       "topic4    0.073892\n",
       "topic5    0.148118\n",
       "topic6    0.090610\n",
       "topic8    0.226552\n",
       "topic9    0.036310\n",
       "dtype: float64"
      ]
     },
     "execution_count": 36,
     "metadata": {},
     "output_type": "execute_result"
    }
   ],
   "source": [
    "average_topic_weights_bot = bottom_quartile[[\"topic0\",'topic1',\"topic2\",'topic3',\"topic4\",'topic5',\"topic6\",'topic8','topic9']].mean(axis=0)\n",
    "average_topic_weights_bot"
   ]
  },
  {
   "cell_type": "code",
   "execution_count": 38,
   "metadata": {},
   "outputs": [],
   "source": [
    "quartile_topics = pd.concat([average_topic_weights_top,average_topic_weights_bot],axis=1)\n",
    "quartile_topics.columns = ['Top Quartile','Bottom Quartile']"
   ]
  },
  {
   "cell_type": "code",
   "execution_count": 39,
   "metadata": {},
   "outputs": [
    {
     "data": {
      "text/html": [
       "<div>\n",
       "<style scoped>\n",
       "    .dataframe tbody tr th:only-of-type {\n",
       "        vertical-align: middle;\n",
       "    }\n",
       "\n",
       "    .dataframe tbody tr th {\n",
       "        vertical-align: top;\n",
       "    }\n",
       "\n",
       "    .dataframe thead th {\n",
       "        text-align: right;\n",
       "    }\n",
       "</style>\n",
       "<table border=\"1\" class=\"dataframe\">\n",
       "  <thead>\n",
       "    <tr style=\"text-align: right;\">\n",
       "      <th></th>\n",
       "      <th>Top Quartile</th>\n",
       "      <th>Bottom Quartile</th>\n",
       "    </tr>\n",
       "  </thead>\n",
       "  <tbody>\n",
       "    <tr>\n",
       "      <th>topic0</th>\n",
       "      <td>0.077535</td>\n",
       "      <td>0.088776</td>\n",
       "    </tr>\n",
       "    <tr>\n",
       "      <th>topic1</th>\n",
       "      <td>0.069047</td>\n",
       "      <td>0.106151</td>\n",
       "    </tr>\n",
       "    <tr>\n",
       "      <th>topic2</th>\n",
       "      <td>0.047511</td>\n",
       "      <td>0.136207</td>\n",
       "    </tr>\n",
       "    <tr>\n",
       "      <th>topic3</th>\n",
       "      <td>0.199879</td>\n",
       "      <td>0.030750</td>\n",
       "    </tr>\n",
       "    <tr>\n",
       "      <th>topic4</th>\n",
       "      <td>0.103715</td>\n",
       "      <td>0.073892</td>\n",
       "    </tr>\n",
       "    <tr>\n",
       "      <th>topic5</th>\n",
       "      <td>0.083818</td>\n",
       "      <td>0.148118</td>\n",
       "    </tr>\n",
       "    <tr>\n",
       "      <th>topic6</th>\n",
       "      <td>0.132692</td>\n",
       "      <td>0.090610</td>\n",
       "    </tr>\n",
       "    <tr>\n",
       "      <th>topic8</th>\n",
       "      <td>0.105989</td>\n",
       "      <td>0.226552</td>\n",
       "    </tr>\n",
       "    <tr>\n",
       "      <th>topic9</th>\n",
       "      <td>0.098898</td>\n",
       "      <td>0.036310</td>\n",
       "    </tr>\n",
       "  </tbody>\n",
       "</table>\n",
       "</div>"
      ],
      "text/plain": [
       "        Top Quartile  Bottom Quartile\n",
       "topic0      0.077535         0.088776\n",
       "topic1      0.069047         0.106151\n",
       "topic2      0.047511         0.136207\n",
       "topic3      0.199879         0.030750\n",
       "topic4      0.103715         0.073892\n",
       "topic5      0.083818         0.148118\n",
       "topic6      0.132692         0.090610\n",
       "topic8      0.105989         0.226552\n",
       "topic9      0.098898         0.036310"
      ]
     },
     "execution_count": 39,
     "metadata": {},
     "output_type": "execute_result"
    }
   ],
   "source": [
    "quartile_topics"
   ]
  },
  {
   "cell_type": "markdown",
   "metadata": {},
   "source": [
    "### Insights:\n",
    "Based on LDA, we can see that many of our posts fall under the main category of nature. There are many overlaps within these topics, given that most are related to nature, landscapes and animals. People expect these photos from NatGeo, and these photos are probably the reason they are actively following the account. NatGeo is first and foremost known for their nature based magazines, which have been a household name since 1888. The Instagram account is an extension of this brand image they have created in homes, and thus, it is essential to maintain that on different platforms as well. However, there is also room to engage with a new userbase through Instagram, which is why we recommend slowly starting to add in a mix of new images corresponding to other topics.\n",
    "\n",
    "Looking at just our high engagement posts, we see that three topics stand out with the highest scores. These topics include Photography, Nature, and Mountainous terrain. We can assume that users on Instagram are generally more likely to be interested in taking good photos – they are, after all, browsing the social media platform to see images! So NatGeo can group these together by finding new perspectives in photographing nature and mountains. People are also interested in images of nature probably because it is a respite from their day to day; thus, we can perhaps look to optimize our posts to encourage high engagement by posting at certain times of the workday when people tend to find their days dragging (for example, at 2pm when the post lunch coma hits).\n",
    "\n",
    "Our low engagement posts surprisingly coincide with topics that National Geographic post the most about. They are posting many photos about the natural environment, yet they aren’t receiving the engagement they want on these pictures. This could be because people’s Instagram feeds are oversaturated by these images. Posts with more rugged terrain tend to be less popular, possibly because it appeals to a different type of beauty. We would suggest focusing more on posting images that develop engagement, like those listed under high engagement, and reduce the number of nature posts to a maximum limit per week. Limiting the saturation of these images on people’s feeds might encourage more engagement with the posts of nature in general.\n",
    "\n",
    "One thing that could be useful to monitor is how the trends in engagement topics change based on season. For example, more individuals might engage with travel related images prior to planning a trip, which would cause an increase in certain topic label engagement. They may also want to see more images of people/human elements of emotion during the holidays, and pictures of sunny warm places in the winter. Looking at how engagement changes by season in general could be a great way to drive engagement by posting more targeted images at certain times of the year.\n"
   ]
  }
 ],
 "metadata": {
  "kernelspec": {
   "display_name": "Python 3",
   "language": "python",
   "name": "python3"
  },
  "language_info": {
   "codemirror_mode": {
    "name": "ipython",
    "version": 3
   },
   "file_extension": ".py",
   "mimetype": "text/x-python",
   "name": "python",
   "nbconvert_exporter": "python",
   "pygments_lexer": "ipython3",
   "version": "3.7.3"
  }
 },
 "nbformat": 4,
 "nbformat_minor": 2
}
