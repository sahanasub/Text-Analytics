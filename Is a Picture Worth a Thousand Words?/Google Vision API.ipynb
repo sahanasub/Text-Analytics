{
 "cells": [
  {
   "cell_type": "markdown",
   "metadata": {},
   "source": [
    "### Google Vision API"
   ]
  },
  {
   "cell_type": "code",
   "execution_count": 1,
   "metadata": {},
   "outputs": [],
   "source": [
    "import pandas as pd\n",
    "import numpy as np\n",
    "\n",
    "from ast import literal_eval\n",
    "import os"
   ]
  },
  {
   "cell_type": "code",
   "execution_count": null,
   "metadata": {},
   "outputs": [],
   "source": [
    "def detect_labels_url(url):\n",
    "    \"\"\"Detects labels in the file located in Google Cloud Storage or on the\n",
    "   Web.\"\"\"\n",
    "    from google.cloud import vision\n",
    "    client = vision.ImageAnnotatorClient()\n",
    "    image = vision.types.Image()\n",
    "    image.source.image_uri = url\n",
    "\n",
    "    response = client.label_detection(image=image)\n",
    "    labels = response.label_annotations\n",
    "    return labels\n",
    "\n",
    "def extract_labels_from_gvision(url):\n",
    "    \"\"\"Extracts the labels in the appropriate format.\"\"\"\n",
    "    my_labels = detect_labels_url(url)\n",
    "    my_label_list = list()\n",
    "    for label in my_labels:\n",
    "        my_label_list.append(label.description)\n",
    "    return my_label_list"
   ]
  },
  {
   "cell_type": "code",
   "execution_count": null,
   "metadata": {},
   "outputs": [],
   "source": [
    "cs_directory = \"C:/Users/Sahana/Downloads/\"\n",
    "os.environ[\"GOOGLE_APPLICATION_CREDENTIALS\"]= cs_directory + \"service_account.json\"\n",
    "\n",
    "## Read the file with the images and captions from Instagram\n",
    "df = pd.read_csv(\"nat_geo_final.csv\")\n",
    "\n",
    "## Append the labels obtained from Google Vision API to the dataframe\n",
    "df['labels'] = df['display_url'].apply(extract_labels_from_gvision)\n",
    "df.to_csv(\"natgeo_labels_final.csv\")"
   ]
  }
 ],
 "metadata": {
  "kernelspec": {
   "display_name": "Python 3",
   "language": "python",
   "name": "python3"
  },
  "language_info": {
   "codemirror_mode": {
    "name": "ipython",
    "version": 3
   },
   "file_extension": ".py",
   "mimetype": "text/x-python",
   "name": "python",
   "nbconvert_exporter": "python",
   "pygments_lexer": "ipython3",
   "version": "3.7.3"
  }
 },
 "nbformat": 4,
 "nbformat_minor": 2
}
